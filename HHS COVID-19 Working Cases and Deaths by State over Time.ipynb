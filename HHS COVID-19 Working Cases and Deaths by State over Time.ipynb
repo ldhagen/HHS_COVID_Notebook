{
 "cells": [
  {
   "cell_type": "code",
   "execution_count": 1,
   "metadata": {},
   "outputs": [],
   "source": [
    "import pandas as pd\n",
    "import matplotlib.pyplot as plt\n",
    "import numpy as np\n",
    "import datetime\n",
    "from datetime import date, timedelta\n",
    "import datetime\n",
    "import matplotlib.dates as mdates\n",
    "%matplotlib inline\n",
    "import pickle"
   ]
  },
  {
   "cell_type": "code",
   "execution_count": 2,
   "metadata": {},
   "outputs": [],
   "source": [
    "df_hhs = pd.read_csv('https://data.cdc.gov/api/views/9mfq-cb36/rows.csv?accessType=DOWNLOAD')"
   ]
  },
  {
   "cell_type": "markdown",
   "metadata": {},
   "source": [
    "https://healthdata.gov/dataset/United-States-COVID-19-Cases-and-Deaths-by-State-o/hiyb-zgc2"
   ]
  },
  {
   "cell_type": "code",
   "execution_count": 3,
   "metadata": {},
   "outputs": [
    {
     "data": {
      "text/plain": [
       "['In',\n",
       " 'Out',\n",
       " '_',\n",
       " '__',\n",
       " '___',\n",
       " '__builtin__',\n",
       " '__builtins__',\n",
       " '__doc__',\n",
       " '__loader__',\n",
       " '__name__',\n",
       " '__package__',\n",
       " '__spec__',\n",
       " '_dh',\n",
       " '_i',\n",
       " '_i1',\n",
       " '_i2',\n",
       " '_i3',\n",
       " '_ih',\n",
       " '_ii',\n",
       " '_iii',\n",
       " '_oh',\n",
       " 'date',\n",
       " 'datetime',\n",
       " 'df_hhs',\n",
       " 'exit',\n",
       " 'get_ipython',\n",
       " 'mdates',\n",
       " 'np',\n",
       " 'pd',\n",
       " 'pickle',\n",
       " 'plt',\n",
       " 'quit',\n",
       " 'timedelta']"
      ]
     },
     "execution_count": 3,
     "metadata": {},
     "output_type": "execute_result"
    }
   ],
   "source": [
    "dir()"
   ]
  },
  {
   "cell_type": "code",
   "execution_count": 4,
   "metadata": {},
   "outputs": [
    {
     "name": "stdout",
     "output_type": "stream",
     "text": [
      "<class 'pandas.core.frame.DataFrame'>\n",
      "RangeIndex: 52800 entries, 0 to 52799\n",
      "Data columns (total 15 columns):\n",
      " #   Column           Non-Null Count  Dtype  \n",
      "---  ------           --------------  -----  \n",
      " 0   submission_date  52800 non-null  object \n",
      " 1   state            52800 non-null  object \n",
      " 2   tot_cases        52800 non-null  int64  \n",
      " 3   conf_cases       29338 non-null  float64\n",
      " 4   prob_cases       29266 non-null  float64\n",
      " 5   new_case         52800 non-null  int64  \n",
      " 6   pnew_case        49055 non-null  float64\n",
      " 7   tot_death        52800 non-null  int64  \n",
      " 8   conf_death       28819 non-null  float64\n",
      " 9   prob_death       28819 non-null  float64\n",
      " 10  new_death        52800 non-null  int64  \n",
      " 11  pnew_death       49087 non-null  float64\n",
      " 12  created_at       52800 non-null  object \n",
      " 13  consent_cases    43995 non-null  object \n",
      " 14  consent_deaths   44880 non-null  object \n",
      "dtypes: float64(6), int64(4), object(5)\n",
      "memory usage: 6.0+ MB\n"
     ]
    }
   ],
   "source": [
    "df_hhs.info()"
   ]
  },
  {
   "cell_type": "code",
   "execution_count": null,
   "metadata": {},
   "outputs": [],
   "source": []
  },
  {
   "cell_type": "code",
   "execution_count": null,
   "metadata": {},
   "outputs": [],
   "source": []
  },
  {
   "cell_type": "code",
   "execution_count": 5,
   "metadata": {},
   "outputs": [
    {
     "name": "stdout",
     "output_type": "stream",
     "text": [
      "<class 'pandas.core.frame.DataFrame'>\n",
      "RangeIndex: 52800 entries, 0 to 52799\n",
      "Data columns (total 15 columns):\n",
      " #   Column           Non-Null Count  Dtype         \n",
      "---  ------           --------------  -----         \n",
      " 0   submission_date  52800 non-null  datetime64[ns]\n",
      " 1   state            52800 non-null  object        \n",
      " 2   tot_cases        52800 non-null  int64         \n",
      " 3   conf_cases       29338 non-null  float64       \n",
      " 4   prob_cases       29266 non-null  float64       \n",
      " 5   new_case         52800 non-null  int64         \n",
      " 6   pnew_case        49055 non-null  float64       \n",
      " 7   tot_death        52800 non-null  int64         \n",
      " 8   conf_death       28819 non-null  float64       \n",
      " 9   prob_death       28819 non-null  float64       \n",
      " 10  new_death        52800 non-null  int64         \n",
      " 11  pnew_death       49087 non-null  float64       \n",
      " 12  created_at       52800 non-null  object        \n",
      " 13  consent_cases    43995 non-null  object        \n",
      " 14  consent_deaths   44880 non-null  object        \n",
      "dtypes: datetime64[ns](1), float64(6), int64(4), object(4)\n",
      "memory usage: 6.0+ MB\n"
     ]
    }
   ],
   "source": [
    "df_hhs.submission_date = pd.to_datetime(df_hhs.submission_date)\n",
    "df_hhs.info()"
   ]
  },
  {
   "cell_type": "markdown",
   "metadata": {
    "scrolled": true
   },
   "source": [
    "for x in df_hhs.columns:\n",
    "    print(x)"
   ]
  },
  {
   "cell_type": "code",
   "execution_count": 6,
   "metadata": {},
   "outputs": [],
   "source": [
    "pd.set_option('display.max_columns', None)\n",
    "pd.set_option('display.max_rows', None)"
   ]
  },
  {
   "cell_type": "code",
   "execution_count": 7,
   "metadata": {},
   "outputs": [
    {
     "data": {
      "text/html": [
       "<div>\n",
       "<style scoped>\n",
       "    .dataframe tbody tr th:only-of-type {\n",
       "        vertical-align: middle;\n",
       "    }\n",
       "\n",
       "    .dataframe tbody tr th {\n",
       "        vertical-align: top;\n",
       "    }\n",
       "\n",
       "    .dataframe thead th {\n",
       "        text-align: right;\n",
       "    }\n",
       "</style>\n",
       "<table border=\"1\" class=\"dataframe\">\n",
       "  <thead>\n",
       "    <tr style=\"text-align: right;\">\n",
       "      <th></th>\n",
       "      <th>submission_date</th>\n",
       "      <th>state</th>\n",
       "      <th>tot_cases</th>\n",
       "      <th>conf_cases</th>\n",
       "      <th>prob_cases</th>\n",
       "      <th>new_case</th>\n",
       "      <th>pnew_case</th>\n",
       "      <th>tot_death</th>\n",
       "      <th>conf_death</th>\n",
       "      <th>prob_death</th>\n",
       "      <th>new_death</th>\n",
       "      <th>pnew_death</th>\n",
       "      <th>created_at</th>\n",
       "      <th>consent_cases</th>\n",
       "      <th>consent_deaths</th>\n",
       "    </tr>\n",
       "  </thead>\n",
       "  <tbody>\n",
       "    <tr>\n",
       "      <th>23975</th>\n",
       "      <td>2022-06-15</td>\n",
       "      <td>NY</td>\n",
       "      <td>2969161</td>\n",
       "      <td>NaN</td>\n",
       "      <td>NaN</td>\n",
       "      <td>2414</td>\n",
       "      <td>0.0</td>\n",
       "      <td>28112</td>\n",
       "      <td>NaN</td>\n",
       "      <td>NaN</td>\n",
       "      <td>3</td>\n",
       "      <td>0.0</td>\n",
       "      <td>06/16/2022 01:16:57 PM</td>\n",
       "      <td>Not agree</td>\n",
       "      <td>Not agree</td>\n",
       "    </tr>\n",
       "    <tr>\n",
       "      <th>34347</th>\n",
       "      <td>2022-06-16</td>\n",
       "      <td>NY</td>\n",
       "      <td>2971739</td>\n",
       "      <td>NaN</td>\n",
       "      <td>NaN</td>\n",
       "      <td>2578</td>\n",
       "      <td>0.0</td>\n",
       "      <td>28119</td>\n",
       "      <td>NaN</td>\n",
       "      <td>NaN</td>\n",
       "      <td>7</td>\n",
       "      <td>0.0</td>\n",
       "      <td>06/17/2022 01:23:40 PM</td>\n",
       "      <td>Not agree</td>\n",
       "      <td>Not agree</td>\n",
       "    </tr>\n",
       "    <tr>\n",
       "      <th>26257</th>\n",
       "      <td>2022-06-17</td>\n",
       "      <td>NY</td>\n",
       "      <td>2973990</td>\n",
       "      <td>NaN</td>\n",
       "      <td>NaN</td>\n",
       "      <td>2251</td>\n",
       "      <td>0.0</td>\n",
       "      <td>28126</td>\n",
       "      <td>NaN</td>\n",
       "      <td>NaN</td>\n",
       "      <td>7</td>\n",
       "      <td>0.0</td>\n",
       "      <td>06/18/2022 01:33:11 PM</td>\n",
       "      <td>Not agree</td>\n",
       "      <td>Not agree</td>\n",
       "    </tr>\n",
       "    <tr>\n",
       "      <th>37296</th>\n",
       "      <td>2022-06-18</td>\n",
       "      <td>NY</td>\n",
       "      <td>2976382</td>\n",
       "      <td>NaN</td>\n",
       "      <td>NaN</td>\n",
       "      <td>2392</td>\n",
       "      <td>0.0</td>\n",
       "      <td>28126</td>\n",
       "      <td>NaN</td>\n",
       "      <td>NaN</td>\n",
       "      <td>0</td>\n",
       "      <td>0.0</td>\n",
       "      <td>06/20/2022 12:19:49 PM</td>\n",
       "      <td>Not agree</td>\n",
       "      <td>Not agree</td>\n",
       "    </tr>\n",
       "    <tr>\n",
       "      <th>23055</th>\n",
       "      <td>2022-06-19</td>\n",
       "      <td>NY</td>\n",
       "      <td>2978215</td>\n",
       "      <td>NaN</td>\n",
       "      <td>NaN</td>\n",
       "      <td>1833</td>\n",
       "      <td>0.0</td>\n",
       "      <td>28139</td>\n",
       "      <td>NaN</td>\n",
       "      <td>NaN</td>\n",
       "      <td>13</td>\n",
       "      <td>0.0</td>\n",
       "      <td>06/20/2022 12:58:38 PM</td>\n",
       "      <td>Not agree</td>\n",
       "      <td>Not agree</td>\n",
       "    </tr>\n",
       "  </tbody>\n",
       "</table>\n",
       "</div>"
      ],
      "text/plain": [
       "      submission_date state  tot_cases  conf_cases  prob_cases  new_case  \\\n",
       "23975      2022-06-15    NY    2969161         NaN         NaN      2414   \n",
       "34347      2022-06-16    NY    2971739         NaN         NaN      2578   \n",
       "26257      2022-06-17    NY    2973990         NaN         NaN      2251   \n",
       "37296      2022-06-18    NY    2976382         NaN         NaN      2392   \n",
       "23055      2022-06-19    NY    2978215         NaN         NaN      1833   \n",
       "\n",
       "       pnew_case  tot_death  conf_death  prob_death  new_death  pnew_death  \\\n",
       "23975        0.0      28112         NaN         NaN          3         0.0   \n",
       "34347        0.0      28119         NaN         NaN          7         0.0   \n",
       "26257        0.0      28126         NaN         NaN          7         0.0   \n",
       "37296        0.0      28126         NaN         NaN          0         0.0   \n",
       "23055        0.0      28139         NaN         NaN         13         0.0   \n",
       "\n",
       "                   created_at consent_cases consent_deaths  \n",
       "23975  06/16/2022 01:16:57 PM     Not agree      Not agree  \n",
       "34347  06/17/2022 01:23:40 PM     Not agree      Not agree  \n",
       "26257  06/18/2022 01:33:11 PM     Not agree      Not agree  \n",
       "37296  06/20/2022 12:19:49 PM     Not agree      Not agree  \n",
       "23055  06/20/2022 12:58:38 PM     Not agree      Not agree  "
      ]
     },
     "execution_count": 7,
     "metadata": {},
     "output_type": "execute_result"
    }
   ],
   "source": [
    "aaa = df_hhs.sort_values(by = 'submission_date')\n",
    "aaa[aaa.state == 'NY'].tail()"
   ]
  },
  {
   "cell_type": "code",
   "execution_count": 8,
   "metadata": {},
   "outputs": [
    {
     "data": {
      "text/html": [
       "<div>\n",
       "<style scoped>\n",
       "    .dataframe tbody tr th:only-of-type {\n",
       "        vertical-align: middle;\n",
       "    }\n",
       "\n",
       "    .dataframe tbody tr th {\n",
       "        vertical-align: top;\n",
       "    }\n",
       "\n",
       "    .dataframe thead th {\n",
       "        text-align: right;\n",
       "    }\n",
       "</style>\n",
       "<table border=\"1\" class=\"dataframe\">\n",
       "  <thead>\n",
       "    <tr style=\"text-align: right;\">\n",
       "      <th></th>\n",
       "      <th>submission_date</th>\n",
       "      <th>state</th>\n",
       "      <th>tot_cases</th>\n",
       "      <th>conf_cases</th>\n",
       "      <th>prob_cases</th>\n",
       "      <th>new_case</th>\n",
       "      <th>pnew_case</th>\n",
       "      <th>tot_death</th>\n",
       "      <th>conf_death</th>\n",
       "      <th>prob_death</th>\n",
       "      <th>new_death</th>\n",
       "      <th>pnew_death</th>\n",
       "      <th>created_at</th>\n",
       "      <th>consent_cases</th>\n",
       "      <th>consent_deaths</th>\n",
       "    </tr>\n",
       "  </thead>\n",
       "  <tbody>\n",
       "    <tr>\n",
       "      <th>37015</th>\n",
       "      <td>2022-01-14</td>\n",
       "      <td>OH</td>\n",
       "      <td>2307691</td>\n",
       "      <td>1806548.0</td>\n",
       "      <td>501143.0</td>\n",
       "      <td>41455</td>\n",
       "      <td>10957.0</td>\n",
       "      <td>30922</td>\n",
       "      <td>30922.0</td>\n",
       "      <td>0.0</td>\n",
       "      <td>487</td>\n",
       "      <td>0.0</td>\n",
       "      <td>01/15/2022 02:59:30 PM</td>\n",
       "      <td>Agree</td>\n",
       "      <td>Agree</td>\n",
       "    </tr>\n",
       "  </tbody>\n",
       "</table>\n",
       "</div>"
      ],
      "text/plain": [
       "      submission_date state  tot_cases  conf_cases  prob_cases  new_case  \\\n",
       "37015      2022-01-14    OH    2307691   1806548.0    501143.0     41455   \n",
       "\n",
       "       pnew_case  tot_death  conf_death  prob_death  new_death  pnew_death  \\\n",
       "37015    10957.0      30922     30922.0         0.0        487         0.0   \n",
       "\n",
       "                   created_at consent_cases consent_deaths  \n",
       "37015  01/15/2022 02:59:30 PM         Agree          Agree  "
      ]
     },
     "execution_count": 8,
     "metadata": {},
     "output_type": "execute_result"
    }
   ],
   "source": [
    "aaa[(aaa.submission_date == '2022-01-14') & (aaa['new_death'] == aaa[aaa.submission_date == '2022-01-14']['new_death'].max())]"
   ]
  },
  {
   "cell_type": "code",
   "execution_count": null,
   "metadata": {},
   "outputs": [],
   "source": []
  },
  {
   "cell_type": "code",
   "execution_count": null,
   "metadata": {},
   "outputs": [],
   "source": []
  },
  {
   "cell_type": "code",
   "execution_count": null,
   "metadata": {},
   "outputs": [],
   "source": []
  },
  {
   "cell_type": "code",
   "execution_count": null,
   "metadata": {},
   "outputs": [],
   "source": []
  },
  {
   "cell_type": "code",
   "execution_count": null,
   "metadata": {},
   "outputs": [],
   "source": []
  },
  {
   "cell_type": "code",
   "execution_count": null,
   "metadata": {},
   "outputs": [],
   "source": []
  },
  {
   "cell_type": "code",
   "execution_count": null,
   "metadata": {},
   "outputs": [],
   "source": []
  },
  {
   "cell_type": "code",
   "execution_count": 9,
   "metadata": {},
   "outputs": [
    {
     "data": {
      "text/html": [
       "<div>\n",
       "<style scoped>\n",
       "    .dataframe tbody tr th:only-of-type {\n",
       "        vertical-align: middle;\n",
       "    }\n",
       "\n",
       "    .dataframe tbody tr th {\n",
       "        vertical-align: top;\n",
       "    }\n",
       "\n",
       "    .dataframe thead th {\n",
       "        text-align: right;\n",
       "    }\n",
       "</style>\n",
       "<table border=\"1\" class=\"dataframe\">\n",
       "  <thead>\n",
       "    <tr style=\"text-align: right;\">\n",
       "      <th></th>\n",
       "      <th>submission_date</th>\n",
       "      <th>state</th>\n",
       "      <th>tot_cases</th>\n",
       "      <th>conf_cases</th>\n",
       "      <th>prob_cases</th>\n",
       "      <th>new_case</th>\n",
       "      <th>pnew_case</th>\n",
       "      <th>tot_death</th>\n",
       "      <th>conf_death</th>\n",
       "      <th>prob_death</th>\n",
       "      <th>new_death</th>\n",
       "      <th>pnew_death</th>\n",
       "      <th>created_at</th>\n",
       "      <th>consent_cases</th>\n",
       "      <th>consent_deaths</th>\n",
       "    </tr>\n",
       "  </thead>\n",
       "  <tbody>\n",
       "    <tr>\n",
       "      <th>0</th>\n",
       "      <td>2021-03-18</td>\n",
       "      <td>NE</td>\n",
       "      <td>206980</td>\n",
       "      <td>NaN</td>\n",
       "      <td>NaN</td>\n",
       "      <td>298</td>\n",
       "      <td>0.0</td>\n",
       "      <td>2130</td>\n",
       "      <td>NaN</td>\n",
       "      <td>NaN</td>\n",
       "      <td>1</td>\n",
       "      <td>0.0</td>\n",
       "      <td>03/20/2021 12:00:00 AM</td>\n",
       "      <td>Not agree</td>\n",
       "      <td>Not agree</td>\n",
       "    </tr>\n",
       "    <tr>\n",
       "      <th>1</th>\n",
       "      <td>2021-09-01</td>\n",
       "      <td>ND</td>\n",
       "      <td>118491</td>\n",
       "      <td>107475.0</td>\n",
       "      <td>11016.0</td>\n",
       "      <td>536</td>\n",
       "      <td>66.0</td>\n",
       "      <td>1562</td>\n",
       "      <td>NaN</td>\n",
       "      <td>NaN</td>\n",
       "      <td>1</td>\n",
       "      <td>0.0</td>\n",
       "      <td>09/02/2021 01:49:05 PM</td>\n",
       "      <td>Agree</td>\n",
       "      <td>Not agree</td>\n",
       "    </tr>\n",
       "    <tr>\n",
       "      <th>2</th>\n",
       "      <td>2022-03-28</td>\n",
       "      <td>VT</td>\n",
       "      <td>107785</td>\n",
       "      <td>NaN</td>\n",
       "      <td>NaN</td>\n",
       "      <td>467</td>\n",
       "      <td>35.0</td>\n",
       "      <td>585</td>\n",
       "      <td>NaN</td>\n",
       "      <td>NaN</td>\n",
       "      <td>0</td>\n",
       "      <td>0.0</td>\n",
       "      <td>03/29/2022 01:30:11 PM</td>\n",
       "      <td>Not agree</td>\n",
       "      <td>Not agree</td>\n",
       "    </tr>\n",
       "    <tr>\n",
       "      <th>3</th>\n",
       "      <td>2021-03-11</td>\n",
       "      <td>MD</td>\n",
       "      <td>390490</td>\n",
       "      <td>NaN</td>\n",
       "      <td>NaN</td>\n",
       "      <td>924</td>\n",
       "      <td>0.0</td>\n",
       "      <td>8549</td>\n",
       "      <td>8345.0</td>\n",
       "      <td>204.0</td>\n",
       "      <td>19</td>\n",
       "      <td>0.0</td>\n",
       "      <td>03/13/2021 12:00:00 AM</td>\n",
       "      <td>NaN</td>\n",
       "      <td>Agree</td>\n",
       "    </tr>\n",
       "    <tr>\n",
       "      <th>4</th>\n",
       "      <td>2022-04-21</td>\n",
       "      <td>ID</td>\n",
       "      <td>445350</td>\n",
       "      <td>348949.0</td>\n",
       "      <td>96401.0</td>\n",
       "      <td>0</td>\n",
       "      <td>0.0</td>\n",
       "      <td>4918</td>\n",
       "      <td>4007.0</td>\n",
       "      <td>911.0</td>\n",
       "      <td>0</td>\n",
       "      <td>0.0</td>\n",
       "      <td>04/22/2022 02:15:21 PM</td>\n",
       "      <td>Agree</td>\n",
       "      <td>Agree</td>\n",
       "    </tr>\n",
       "  </tbody>\n",
       "</table>\n",
       "</div>"
      ],
      "text/plain": [
       "  submission_date state  tot_cases  conf_cases  prob_cases  new_case  \\\n",
       "0      2021-03-18    NE     206980         NaN         NaN       298   \n",
       "1      2021-09-01    ND     118491    107475.0     11016.0       536   \n",
       "2      2022-03-28    VT     107785         NaN         NaN       467   \n",
       "3      2021-03-11    MD     390490         NaN         NaN       924   \n",
       "4      2022-04-21    ID     445350    348949.0     96401.0         0   \n",
       "\n",
       "   pnew_case  tot_death  conf_death  prob_death  new_death  pnew_death  \\\n",
       "0        0.0       2130         NaN         NaN          1         0.0   \n",
       "1       66.0       1562         NaN         NaN          1         0.0   \n",
       "2       35.0        585         NaN         NaN          0         0.0   \n",
       "3        0.0       8549      8345.0       204.0         19         0.0   \n",
       "4        0.0       4918      4007.0       911.0          0         0.0   \n",
       "\n",
       "               created_at consent_cases consent_deaths  \n",
       "0  03/20/2021 12:00:00 AM     Not agree      Not agree  \n",
       "1  09/02/2021 01:49:05 PM         Agree      Not agree  \n",
       "2  03/29/2022 01:30:11 PM     Not agree      Not agree  \n",
       "3  03/13/2021 12:00:00 AM           NaN          Agree  \n",
       "4  04/22/2022 02:15:21 PM         Agree          Agree  "
      ]
     },
     "execution_count": 9,
     "metadata": {},
     "output_type": "execute_result"
    }
   ],
   "source": [
    "df_hhs.head()"
   ]
  },
  {
   "cell_type": "code",
   "execution_count": 10,
   "metadata": {
    "scrolled": true
   },
   "outputs": [
    {
     "data": {
      "text/plain": [
       "submission_date       2022-06-19 00:00:00\n",
       "state                                  WY\n",
       "tot_cases                         9881072\n",
       "conf_cases                      9199942.0\n",
       "prob_cases                       681130.0\n",
       "new_case                           319809\n",
       "pnew_case                        171617.0\n",
       "tot_death                           91240\n",
       "conf_death                        71408.0\n",
       "prob_death                         7177.0\n",
       "new_death                            1178\n",
       "pnew_death                         2919.0\n",
       "created_at         12/31/2021 12:00:00 AM\n",
       "dtype: object"
      ]
     },
     "execution_count": 10,
     "metadata": {},
     "output_type": "execute_result"
    }
   ],
   "source": [
    "df_hhs.max()"
   ]
  },
  {
   "cell_type": "code",
   "execution_count": 11,
   "metadata": {},
   "outputs": [],
   "source": [
    "date_list = df_hhs.submission_date.unique()"
   ]
  },
  {
   "cell_type": "code",
   "execution_count": 12,
   "metadata": {},
   "outputs": [],
   "source": [
    "date_list.sort()\n"
   ]
  },
  {
   "cell_type": "markdown",
   "metadata": {},
   "source": [
    "date_list"
   ]
  },
  {
   "cell_type": "code",
   "execution_count": null,
   "metadata": {},
   "outputs": [],
   "source": []
  },
  {
   "cell_type": "code",
   "execution_count": null,
   "metadata": {},
   "outputs": [],
   "source": []
  },
  {
   "cell_type": "code",
   "execution_count": null,
   "metadata": {},
   "outputs": [],
   "source": []
  },
  {
   "cell_type": "code",
   "execution_count": null,
   "metadata": {},
   "outputs": [],
   "source": []
  },
  {
   "cell_type": "code",
   "execution_count": null,
   "metadata": {},
   "outputs": [],
   "source": []
  },
  {
   "cell_type": "code",
   "execution_count": 13,
   "metadata": {},
   "outputs": [
    {
     "ename": "KeyError",
     "evalue": "'deaths_covid'",
     "output_type": "error",
     "traceback": [
      "\u001b[0;31m---------------------------------------------------------------------------\u001b[0m",
      "\u001b[0;31mKeyError\u001b[0m                                  Traceback (most recent call last)",
      "\u001b[0;32m~/.local/lib/python3.8/site-packages/pandas/core/indexes/base.py\u001b[0m in \u001b[0;36mget_loc\u001b[0;34m(self, key, method, tolerance)\u001b[0m\n\u001b[1;32m   3079\u001b[0m             \u001b[0;32mtry\u001b[0m\u001b[0;34m:\u001b[0m\u001b[0;34m\u001b[0m\u001b[0;34m\u001b[0m\u001b[0m\n\u001b[0;32m-> 3080\u001b[0;31m                 \u001b[0;32mreturn\u001b[0m \u001b[0mself\u001b[0m\u001b[0;34m.\u001b[0m\u001b[0m_engine\u001b[0m\u001b[0;34m.\u001b[0m\u001b[0mget_loc\u001b[0m\u001b[0;34m(\u001b[0m\u001b[0mcasted_key\u001b[0m\u001b[0;34m)\u001b[0m\u001b[0;34m\u001b[0m\u001b[0;34m\u001b[0m\u001b[0m\n\u001b[0m\u001b[1;32m   3081\u001b[0m             \u001b[0;32mexcept\u001b[0m \u001b[0mKeyError\u001b[0m \u001b[0;32mas\u001b[0m \u001b[0merr\u001b[0m\u001b[0;34m:\u001b[0m\u001b[0;34m\u001b[0m\u001b[0;34m\u001b[0m\u001b[0m\n",
      "\u001b[0;32m/usr/local/lib/python3.8/dist-packages/pandas/_libs/index.pyx\u001b[0m in \u001b[0;36mpandas._libs.index.IndexEngine.get_loc\u001b[0;34m()\u001b[0m\n",
      "\u001b[0;32m/usr/local/lib/python3.8/dist-packages/pandas/_libs/index.pyx\u001b[0m in \u001b[0;36mpandas._libs.index.IndexEngine.get_loc\u001b[0;34m()\u001b[0m\n",
      "\u001b[0;32mpandas/_libs/hashtable_class_helper.pxi\u001b[0m in \u001b[0;36mpandas._libs.hashtable.PyObjectHashTable.get_item\u001b[0;34m()\u001b[0m\n",
      "\u001b[0;32mpandas/_libs/hashtable_class_helper.pxi\u001b[0m in \u001b[0;36mpandas._libs.hashtable.PyObjectHashTable.get_item\u001b[0;34m()\u001b[0m\n",
      "\u001b[0;31mKeyError\u001b[0m: 'deaths_covid'",
      "\nThe above exception was the direct cause of the following exception:\n",
      "\u001b[0;31mKeyError\u001b[0m                                  Traceback (most recent call last)",
      "\u001b[0;32m<ipython-input-13-cb3def7d5988>\u001b[0m in \u001b[0;36m<module>\u001b[0;34m\u001b[0m\n\u001b[1;32m      1\u001b[0m \u001b[0;32mfor\u001b[0m \u001b[0mx\u001b[0m \u001b[0;32min\u001b[0m \u001b[0mdate_list\u001b[0m\u001b[0;34m:\u001b[0m\u001b[0;34m\u001b[0m\u001b[0;34m\u001b[0m\u001b[0m\n\u001b[0;32m----> 2\u001b[0;31m     \u001b[0mprint\u001b[0m\u001b[0;34m(\u001b[0m\u001b[0mdf_hhs\u001b[0m\u001b[0;34m[\u001b[0m\u001b[0mdf_hhs\u001b[0m\u001b[0;34m.\u001b[0m\u001b[0msubmission_date\u001b[0m \u001b[0;34m==\u001b[0m \u001b[0mx\u001b[0m\u001b[0;34m]\u001b[0m\u001b[0;34m[\u001b[0m\u001b[0;34m'deaths_covid'\u001b[0m\u001b[0;34m]\u001b[0m\u001b[0;34m.\u001b[0m\u001b[0msum\u001b[0m\u001b[0;34m(\u001b[0m\u001b[0;34m)\u001b[0m\u001b[0;34m)\u001b[0m\u001b[0;34m\u001b[0m\u001b[0;34m\u001b[0m\u001b[0m\n\u001b[0m",
      "\u001b[0;32m~/.local/lib/python3.8/site-packages/pandas/core/frame.py\u001b[0m in \u001b[0;36m__getitem__\u001b[0;34m(self, key)\u001b[0m\n\u001b[1;32m   3022\u001b[0m             \u001b[0;32mif\u001b[0m \u001b[0mself\u001b[0m\u001b[0;34m.\u001b[0m\u001b[0mcolumns\u001b[0m\u001b[0;34m.\u001b[0m\u001b[0mnlevels\u001b[0m \u001b[0;34m>\u001b[0m \u001b[0;36m1\u001b[0m\u001b[0;34m:\u001b[0m\u001b[0;34m\u001b[0m\u001b[0;34m\u001b[0m\u001b[0m\n\u001b[1;32m   3023\u001b[0m                 \u001b[0;32mreturn\u001b[0m \u001b[0mself\u001b[0m\u001b[0;34m.\u001b[0m\u001b[0m_getitem_multilevel\u001b[0m\u001b[0;34m(\u001b[0m\u001b[0mkey\u001b[0m\u001b[0;34m)\u001b[0m\u001b[0;34m\u001b[0m\u001b[0;34m\u001b[0m\u001b[0m\n\u001b[0;32m-> 3024\u001b[0;31m             \u001b[0mindexer\u001b[0m \u001b[0;34m=\u001b[0m \u001b[0mself\u001b[0m\u001b[0;34m.\u001b[0m\u001b[0mcolumns\u001b[0m\u001b[0;34m.\u001b[0m\u001b[0mget_loc\u001b[0m\u001b[0;34m(\u001b[0m\u001b[0mkey\u001b[0m\u001b[0;34m)\u001b[0m\u001b[0;34m\u001b[0m\u001b[0;34m\u001b[0m\u001b[0m\n\u001b[0m\u001b[1;32m   3025\u001b[0m             \u001b[0;32mif\u001b[0m \u001b[0mis_integer\u001b[0m\u001b[0;34m(\u001b[0m\u001b[0mindexer\u001b[0m\u001b[0;34m)\u001b[0m\u001b[0;34m:\u001b[0m\u001b[0;34m\u001b[0m\u001b[0;34m\u001b[0m\u001b[0m\n\u001b[1;32m   3026\u001b[0m                 \u001b[0mindexer\u001b[0m \u001b[0;34m=\u001b[0m \u001b[0;34m[\u001b[0m\u001b[0mindexer\u001b[0m\u001b[0;34m]\u001b[0m\u001b[0;34m\u001b[0m\u001b[0;34m\u001b[0m\u001b[0m\n",
      "\u001b[0;32m~/.local/lib/python3.8/site-packages/pandas/core/indexes/base.py\u001b[0m in \u001b[0;36mget_loc\u001b[0;34m(self, key, method, tolerance)\u001b[0m\n\u001b[1;32m   3080\u001b[0m                 \u001b[0;32mreturn\u001b[0m \u001b[0mself\u001b[0m\u001b[0;34m.\u001b[0m\u001b[0m_engine\u001b[0m\u001b[0;34m.\u001b[0m\u001b[0mget_loc\u001b[0m\u001b[0;34m(\u001b[0m\u001b[0mcasted_key\u001b[0m\u001b[0;34m)\u001b[0m\u001b[0;34m\u001b[0m\u001b[0;34m\u001b[0m\u001b[0m\n\u001b[1;32m   3081\u001b[0m             \u001b[0;32mexcept\u001b[0m \u001b[0mKeyError\u001b[0m \u001b[0;32mas\u001b[0m \u001b[0merr\u001b[0m\u001b[0;34m:\u001b[0m\u001b[0;34m\u001b[0m\u001b[0;34m\u001b[0m\u001b[0m\n\u001b[0;32m-> 3082\u001b[0;31m                 \u001b[0;32mraise\u001b[0m \u001b[0mKeyError\u001b[0m\u001b[0;34m(\u001b[0m\u001b[0mkey\u001b[0m\u001b[0;34m)\u001b[0m \u001b[0;32mfrom\u001b[0m \u001b[0merr\u001b[0m\u001b[0;34m\u001b[0m\u001b[0;34m\u001b[0m\u001b[0m\n\u001b[0m\u001b[1;32m   3083\u001b[0m \u001b[0;34m\u001b[0m\u001b[0m\n\u001b[1;32m   3084\u001b[0m         \u001b[0;32mif\u001b[0m \u001b[0mtolerance\u001b[0m \u001b[0;32mis\u001b[0m \u001b[0;32mnot\u001b[0m \u001b[0;32mNone\u001b[0m\u001b[0;34m:\u001b[0m\u001b[0;34m\u001b[0m\u001b[0;34m\u001b[0m\u001b[0m\n",
      "\u001b[0;31mKeyError\u001b[0m: 'deaths_covid'"
     ]
    }
   ],
   "source": [
    "for x in date_list:\n",
    "    print(df_hhs[df_hhs.submission_date == x]['deaths_covid'].sum())"
   ]
  },
  {
   "cell_type": "code",
   "execution_count": null,
   "metadata": {},
   "outputs": [],
   "source": [
    "aaa = []\n",
    "for x in date_list:\n",
    "    #print(df_hhs[df_hhs.date == x]['deaths_covid'].sum())\n",
    "    aaa.append((x, df_hhs[df_hhs.date == x]['deaths_covid'].sum()))"
   ]
  },
  {
   "cell_type": "code",
   "execution_count": null,
   "metadata": {},
   "outputs": [],
   "source": [
    "ccc.tail()"
   ]
  },
  {
   "cell_type": "code",
   "execution_count": null,
   "metadata": {},
   "outputs": [],
   "source": []
  },
  {
   "cell_type": "code",
   "execution_count": null,
   "metadata": {},
   "outputs": [],
   "source": [
    "df_deaths_covid = pd.DataFrame(aaa,columns=['date', 'deaths_covid'])"
   ]
  },
  {
   "cell_type": "code",
   "execution_count": null,
   "metadata": {},
   "outputs": [],
   "source": [
    "df_deaths_covid.info()"
   ]
  },
  {
   "cell_type": "code",
   "execution_count": null,
   "metadata": {},
   "outputs": [],
   "source": [
    "ccc = df_deaths_covid.set_index('date')[-500::]\n",
    "ccc_rolling = ccc.rolling(7).mean().shift()"
   ]
  },
  {
   "cell_type": "code",
   "execution_count": null,
   "metadata": {},
   "outputs": [],
   "source": [
    "ccc.tail()"
   ]
  },
  {
   "cell_type": "code",
   "execution_count": null,
   "metadata": {},
   "outputs": [],
   "source": [
    "import datetime\n",
    "import matplotlib.dates as mdates\n",
    "months = mdates.MonthLocator()\n",
    "days = mdates.DayLocator()\n",
    "timeFmt = mdates.DateFormatter('%b %Y')\n",
    "fig, ax = plt.subplots()\n",
    "fig.set_size_inches(54,22)\n",
    "ax.xaxis.set_major_locator(months)\n",
    "ax.xaxis.set_major_formatter(timeFmt)\n",
    "ax.tick_params(axis='both', labelsize=28)\n",
    "#ax.xaxis.set_minor_locator(months)\n",
    "#plt.rcParams[\"figure.figsize\"] = [17.00, 3.50]\n",
    "plt.title('Total Daily US Hospital Reported COVID-19 Deaths Per US Dept HHS', fontsize = 44)\n",
    "plt.xlabel('Date',color='black', fontsize = 40)\n",
    "plt.ylabel('Total Number of COVID-19 Daily Deaths',color='black', fontsize = 40)\n",
    "plt.bar(ccc.index, ccc.deaths_covid, color = 'black')\n",
    "plt.plot(ccc_rolling.deaths_covid, 'ro',markersize = 20)\n",
    "plt.legend(['7 Day Rolling Average','Daily COVID-19 Deaths'], fontsize = 40)\n",
    "#plt.legend(['7 Day Rolling Average','Daily Reported Deaths'])\n",
    "fig.savefig('HHS_hospital_deaths.png')"
   ]
  },
  {
   "cell_type": "code",
   "execution_count": null,
   "metadata": {},
   "outputs": [],
   "source": [
    "aaa = []\n",
    "for x in date_list:\n",
    "   # print(df_hhs[df_hhs.date == x]['hospital_onset_covid'].sum())\n",
    "    aaa.append((x, df_hhs[df_hhs.date == x]['hospital_onset_covid'].sum()))\n",
    "df_hospital_onset_covid = pd.DataFrame(aaa,columns=['date', 'hospital_onset_covid'])"
   ]
  },
  {
   "cell_type": "code",
   "execution_count": null,
   "metadata": {},
   "outputs": [],
   "source": [
    "ccc = df_hospital_onset_covid.set_index('date')[-400::]\n",
    "ccc_rolling = ccc.rolling(7).mean().shift()\n",
    "ccc.tail()"
   ]
  },
  {
   "cell_type": "code",
   "execution_count": null,
   "metadata": {},
   "outputs": [],
   "source": [
    "import datetime\n",
    "import matplotlib.dates as mdates\n",
    "months = mdates.MonthLocator()\n",
    "days = mdates.DayLocator()\n",
    "timeFmt = mdates.DateFormatter('%b %Y')\n",
    "fig, ax = plt.subplots()\n",
    "fig.set_size_inches(54,22)\n",
    "ax.xaxis.set_major_locator(months)\n",
    "ax.xaxis.set_major_formatter(timeFmt)\n",
    "ax.tick_params(axis='both', labelsize=28)\n",
    "#ax.xaxis.set_minor_locator(months)\n",
    "#plt.rcParams[\"figure.figsize\"] = [17.00, 3.50]\n",
    "plt.title('Daily Number of Patients Catching COVID-19 in US Hospitals Per US Dept HHS', fontsize = 44)\n",
    "plt.xlabel('Date',color='black', fontsize = 40)\n",
    "plt.ylabel('Daily Number Infected w/ COVID-19 from Hospitalization',color='black', fontsize = 40)\n",
    "plt.bar(ccc.index, ccc.hospital_onset_covid, color = 'purple')\n",
    "plt.plot(ccc_rolling.hospital_onset_covid, 'go',markersize = 20)\n",
    "plt.legend(['7 Day Rolling Average','Daily Number Patients Infected w/ COVID-19 In Hospital'], fontsize = 40)\n",
    "#plt.legend(['7 Day Rolling Average','Daily Reported Deaths'])\n",
    "fig.savefig('HHS_hospital_onset_covid.png')"
   ]
  },
  {
   "cell_type": "code",
   "execution_count": null,
   "metadata": {},
   "outputs": [],
   "source": [
    "aaa = []\n",
    "for x in date_list:\n",
    "    #print(df_hhs[df_hhs.date == x]['inpatient_beds_used_covid'].sum())\n",
    "    aaa.append((x, df_hhs[df_hhs.date == x]['inpatient_beds_used_covid'].sum()))\n",
    "df_inpatient_beds_used_covid = pd.DataFrame(aaa,columns=['date', 'inpatient_beds_used_covid'])"
   ]
  },
  {
   "cell_type": "code",
   "execution_count": null,
   "metadata": {},
   "outputs": [],
   "source": [
    "ccc = df_inpatient_beds_used_covid.set_index('date')\n",
    "ccc_rolling = ccc.rolling(7).mean().shift()\n",
    "ccc.tail()"
   ]
  },
  {
   "cell_type": "code",
   "execution_count": null,
   "metadata": {},
   "outputs": [],
   "source": [
    "import datetime\n",
    "import matplotlib.dates as mdates\n",
    "months = mdates.MonthLocator()\n",
    "days = mdates.DayLocator()\n",
    "timeFmt = mdates.DateFormatter('%b %Y')\n",
    "fig, ax = plt.subplots()\n",
    "fig.set_size_inches(64,32)\n",
    "ax.xaxis.set_major_locator(months)\n",
    "ax.xaxis.set_major_formatter(timeFmt)\n",
    "ax.tick_params(axis='y', labelsize=30)\n",
    "ax.tick_params(axis='x', labelsize=25)\n",
    "#ax.xaxis.set_minor_locator(months)\n",
    "#plt.rcParams[\"figure.figsize\"] = [17.00, 3.50]\n",
    "plt.title('Daily Number of Patient Beds w/ COVID-19 in US Hospitals Per US Dept HHS', fontsize = 54)\n",
    "plt.xlabel('Date',color='black', fontsize = 50)\n",
    "plt.ylabel('Daily Number Patient Beds w/ COVID-19',color='black', fontsize = 50)\n",
    "plt.bar(ccc.index, ccc.inpatient_beds_used_covid, color = 'red')\n",
    "plt.plot(ccc_rolling.inpatient_beds_used_covid, 'bo',markersize = 20)\n",
    "plt.legend(['7 Day Rolling Average','Daily Number Patient Beds w/ COVID-19 In US Hospitals'], fontsize = 50)\n",
    "fig.savefig('HHS_inpaitent_beds_covid.png')"
   ]
  },
  {
   "cell_type": "code",
   "execution_count": null,
   "metadata": {},
   "outputs": [],
   "source": [
    "ccc.tail()"
   ]
  },
  {
   "cell_type": "markdown",
   "metadata": {},
   "source": [
    "df_hhs.total_pediatric_patients_hospitalized_confirmed_and_suspected_covid"
   ]
  },
  {
   "cell_type": "code",
   "execution_count": null,
   "metadata": {},
   "outputs": [],
   "source": [
    "aaa = []\n",
    "for x in date_list:\n",
    "    #print(df_hhs[df_hhs.date == x]['total_pediatric_patients_hospitalized_confirmed_and_suspected_covid'].sum())\n",
    "    aaa.append((x, df_hhs[ df_hhs.submission_date == x]['total_pediatric_patients_hospitalized_confirmed_and_suspected_covid'].sum()))\n",
    "df_total_pediatric_patients_hospitalized_confirmed_and_suspected_covid = pd.DataFrame(aaa,columns=['date', 'total_pediatric_patients_hospitalized_confirmed_and_suspected_covid'])"
   ]
  },
  {
   "cell_type": "code",
   "execution_count": null,
   "metadata": {},
   "outputs": [],
   "source": [
    "df_total_pediatric_patients_hospitalized_confirmed_and_suspected_covid.tail()"
   ]
  },
  {
   "cell_type": "code",
   "execution_count": null,
   "metadata": {},
   "outputs": [],
   "source": [
    "ccc = df_total_pediatric_patients_hospitalized_confirmed_and_suspected_covid.set_index('date')[-520::]\n",
    "ccc_rolling = ccc.rolling(7).mean().shift()"
   ]
  },
  {
   "cell_type": "code",
   "execution_count": null,
   "metadata": {},
   "outputs": [],
   "source": [
    "import datetime\n",
    "import matplotlib.dates as mdates\n",
    "months = mdates.MonthLocator()\n",
    "days = mdates.DayLocator()\n",
    "timeFmt = mdates.DateFormatter('%b %Y')\n",
    "fig, ax = plt.subplots()\n",
    "fig.set_size_inches(60,32)\n",
    "ax.xaxis.set_major_locator(months)\n",
    "ax.xaxis.set_major_formatter(timeFmt)\n",
    "ax.tick_params(axis='both', labelsize=30)\n",
    "plt.title('Daily Total Pediatric Patients w/ Confirmed or Suspected COVID-19 in US Hospitals Per US Dept HHS', fontsize = 60)\n",
    "plt.xlabel('Date',color='black', fontsize = 50)\n",
    "plt.ylabel('Number Daily COVID-19 Pediatric Patients',color='black', fontsize = 50)\n",
    "plt.bar(ccc.index, ccc.total_pediatric_patients_hospitalized_confirmed_and_suspected_covid, color = 'plum')\n",
    "plt.plot(ccc_rolling.total_pediatric_patients_hospitalized_confirmed_and_suspected_covid, 'bo',markersize = 20)\n",
    "plt.legend(['7 Day Rolling Average','Daily Number Pediatric COVID-19 Patients In US Hospitals'], fontsize = 50)\n",
    "fig.savefig('HHS_total_pediatric.png')"
   ]
  },
  {
   "cell_type": "markdown",
   "metadata": {},
   "source": [
    "adult_icu_bed_covid_utilization"
   ]
  },
  {
   "cell_type": "code",
   "execution_count": null,
   "metadata": {},
   "outputs": [],
   "source": [
    "aaa = []\n",
    "for x in date_list:\n",
    "    #print(df_hhs[df_hhs.date == x]['adult_icu_bed_covid_utilization'].sum())\n",
    "    aaa.append((x, df_hhs[df_hhs.date == x]['adult_icu_bed_covid_utilization'].sum()))\n",
    "df_adult_icu_bed_covid_utilization = pd.DataFrame(aaa,columns=['date', 'adult_icu_bed_covid_utilization'])"
   ]
  },
  {
   "cell_type": "markdown",
   "metadata": {},
   "source": [
    "staffed_icu_adult_patients_confirmed_and_suspected_covid "
   ]
  },
  {
   "cell_type": "code",
   "execution_count": null,
   "metadata": {},
   "outputs": [],
   "source": [
    "aaa = []\n",
    "for x in date_list:\n",
    "    #print(df_hhs[df_hhs.date == x]['staffed_icu_adult_patients_confirmed_and_suspected_covid'].sum())\n",
    "    aaa.append((x, df_hhs[df_hhs.date == x]['staffed_icu_adult_patients_confirmed_and_suspected_covid'].sum()))\n",
    "df_staffed_icu_adult_patients_confirmed_and_suspected_covid = pd.DataFrame(aaa,columns=['date', 'staffed_icu_adult_patients_confirmed_and_suspected_covid'])"
   ]
  },
  {
   "cell_type": "code",
   "execution_count": null,
   "metadata": {},
   "outputs": [],
   "source": [
    "ccc = df_staffed_icu_adult_patients_confirmed_and_suspected_covid.set_index('date')[-500::]\n",
    "ccc_rolling = ccc.rolling(7).mean().shift()\n",
    "ccc.tail()"
   ]
  },
  {
   "cell_type": "code",
   "execution_count": null,
   "metadata": {},
   "outputs": [],
   "source": [
    "import datetime\n",
    "import matplotlib.dates as mdates\n",
    "months = mdates.MonthLocator()\n",
    "days = mdates.DayLocator()\n",
    "timeFmt = mdates.DateFormatter('%b %Y')\n",
    "fig, ax = plt.subplots()\n",
    "fig.set_size_inches(54,22)\n",
    "ax.xaxis.set_major_locator(months)\n",
    "ax.xaxis.set_major_formatter(timeFmt)\n",
    "ax.tick_params(axis='both', labelsize=28)\n",
    "#ax.xaxis.set_minor_locator(months)\n",
    "#plt.rcParams[\"figure.figsize\"] = [17.00, 3.50]\n",
    "plt.title('Daily Number US Staffed Adult COVID-19 ICU Patients Per US Dept HHS', fontsize = 44)\n",
    "plt.xlabel('Date',color='black', fontsize = 40)\n",
    "plt.ylabel('Daily Number ICU Patients w/ COVID-19',color='black', fontsize = 40)\n",
    "plt.bar(ccc.index, ccc.staffed_icu_adult_patients_confirmed_and_suspected_covid, color = 'aquamarine')\n",
    "plt.plot(ccc_rolling.staffed_icu_adult_patients_confirmed_and_suspected_covid, 'go',markersize = 20)\n",
    "plt.legend(['7 Day Rolling Average','Daily Number US ICU Patients w/ COVID-19 In Hospital'], fontsize = 40)\n",
    "#plt.legend(['7 Day Rolling Average','Daily Reported Deaths'])\n",
    "fig.savefig('HHS_staffed_adult_ICU.png')"
   ]
  },
  {
   "cell_type": "markdown",
   "metadata": {},
   "source": [
    "previous_day_admission_adult_covid_confirmed "
   ]
  },
  {
   "cell_type": "code",
   "execution_count": null,
   "metadata": {},
   "outputs": [],
   "source": [
    "aaa = []\n",
    "for x in date_list:\n",
    "    #print(df_hhs[df_hhs.date == x]['previous_day_admission_adult_covid_confirmed'].sum())\n",
    "    aaa.append((x, df_hhs[df_hhs.date == x]['previous_day_admission_adult_covid_confirmed'].sum()))\n",
    "df_previous_day_admission_adult_covid_confirmed = pd.DataFrame(aaa,columns=['date', 'previous_day_admission_adult_covid_confirmed'])"
   ]
  },
  {
   "cell_type": "code",
   "execution_count": null,
   "metadata": {},
   "outputs": [],
   "source": [
    "ccc = df_previous_day_admission_adult_covid_confirmed.set_index('date')[-500::]\n",
    "ccc_rolling = ccc.rolling(7).mean().shift()\n",
    "ccc.tail()"
   ]
  },
  {
   "cell_type": "code",
   "execution_count": null,
   "metadata": {},
   "outputs": [],
   "source": [
    "import datetime\n",
    "import matplotlib.dates as mdates\n",
    "months = mdates.MonthLocator()\n",
    "days = mdates.DayLocator()\n",
    "timeFmt = mdates.DateFormatter('%b %Y')\n",
    "fig, ax = plt.subplots()\n",
    "fig.set_size_inches(54,22)\n",
    "ax.xaxis.set_major_locator(months)\n",
    "ax.xaxis.set_major_formatter(timeFmt)\n",
    "ax.tick_params(axis='both', labelsize=28)\n",
    "#ax.xaxis.set_minor_locator(months)\n",
    "#plt.rcParams[\"figure.figsize\"] = [17.00, 3.50]\n",
    "plt.title('Daily Number US Hospital Admitted Adult COVID-19 Patients Per US Dept HHS', fontsize = 44)\n",
    "plt.xlabel('Date',color='black', fontsize = 40)\n",
    "plt.ylabel('Daily Number COVID19 Patients Admitted',color='black', fontsize = 40)\n",
    "plt.bar(ccc.index, ccc.previous_day_admission_adult_covid_confirmed, color = 'violet')\n",
    "plt.plot(ccc_rolling.previous_day_admission_adult_covid_confirmed, 'bo',markersize = 20)\n",
    "plt.legend(['7 Day Rolling Average','Daily Number Admissions COVID-19 Patients'], fontsize = 40)\n",
    "fig.savefig('previous_day_admission_adult_covid_confirmed.png')"
   ]
  },
  {
   "cell_type": "markdown",
   "metadata": {},
   "source": [
    "previous_day_admission_pediatric_covid_confirmed   "
   ]
  },
  {
   "cell_type": "code",
   "execution_count": null,
   "metadata": {},
   "outputs": [],
   "source": [
    "aaa = []\n",
    "for x in date_list:\n",
    "    #print(df_hhs[df_hhs.date == x]['previous_day_admission_pediatric_covid_confirmed'].sum())\n",
    "    aaa.append((x, df_hhs[df_hhs.date == x]['previous_day_admission_pediatric_covid_confirmed'].sum()))\n",
    "df_previous_day_admission_pediatric_covid_confirmed = pd.DataFrame(aaa,columns=['date', 'previous_day_admission_pediatric_covid_confirmed'])"
   ]
  },
  {
   "cell_type": "code",
   "execution_count": null,
   "metadata": {},
   "outputs": [],
   "source": []
  },
  {
   "cell_type": "code",
   "execution_count": null,
   "metadata": {},
   "outputs": [],
   "source": [
    "ccc = df_previous_day_admission_pediatric_covid_confirmed.set_index('date')[-500::]\n",
    "ccc_rolling = ccc.rolling(7).mean().shift()"
   ]
  },
  {
   "cell_type": "code",
   "execution_count": null,
   "metadata": {},
   "outputs": [],
   "source": [
    "import datetime\n",
    "import matplotlib.dates as mdates\n",
    "months = mdates.MonthLocator()\n",
    "days = mdates.DayLocator()\n",
    "timeFmt = mdates.DateFormatter('%b %Y')\n",
    "fig, ax = plt.subplots()\n",
    "fig.set_size_inches(54,22)\n",
    "ax.xaxis.set_major_locator(months)\n",
    "ax.xaxis.set_major_formatter(timeFmt)\n",
    "ax.tick_params(axis='both', labelsize=28)\n",
    "#ax.xaxis.set_minor_locator(months)\n",
    "#plt.rcParams[\"figure.figsize\"] = [17.00, 3.50]\n",
    "plt.title('Daily Number US Hospital Admitted Pediatric COVID-19 Patients Per US Dept HHS', fontsize = 44)\n",
    "plt.xlabel('Date',color='black', fontsize = 40)\n",
    "plt.ylabel('Daily Number Pediatric COVID19 Patients Admitted',color='black', fontsize = 40)\n",
    "plt.bar(ccc.index, ccc.previous_day_admission_pediatric_covid_confirmed, color = 'orange')\n",
    "plt.plot(ccc_rolling.previous_day_admission_pediatric_covid_confirmed, 'ko',markersize = 20)\n",
    "plt.legend(['7 Day Rolling Average','Daily Number Pediatric Admissions COVID-19 Patients'], fontsize = 40)\n",
    "fig.savefig('hhs_previous_day_admission_pediatric_covid_confirmed.png')"
   ]
  },
  {
   "cell_type": "code",
   "execution_count": null,
   "metadata": {},
   "outputs": [],
   "source": [
    "ccc.tail()"
   ]
  },
  {
   "cell_type": "code",
   "execution_count": null,
   "metadata": {},
   "outputs": [],
   "source": []
  },
  {
   "cell_type": "code",
   "execution_count": null,
   "metadata": {},
   "outputs": [],
   "source": []
  }
 ],
 "metadata": {
  "kernelspec": {
   "display_name": "Python 3",
   "language": "python",
   "name": "python3"
  },
  "language_info": {
   "codemirror_mode": {
    "name": "ipython",
    "version": 3
   },
   "file_extension": ".py",
   "mimetype": "text/x-python",
   "name": "python",
   "nbconvert_exporter": "python",
   "pygments_lexer": "ipython3",
   "version": "3.8.10"
  }
 },
 "nbformat": 4,
 "nbformat_minor": 4
}
