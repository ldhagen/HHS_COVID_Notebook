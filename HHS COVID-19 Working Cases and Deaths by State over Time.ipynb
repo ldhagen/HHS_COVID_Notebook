{
 "cells": [
  {
   "cell_type": "code",
   "execution_count": 1,
   "metadata": {},
   "outputs": [],
   "source": [
    "import pandas as pd\n",
    "import matplotlib.pyplot as plt\n",
    "import numpy as np\n",
    "import datetime\n",
    "from datetime import date, timedelta\n",
    "import datetime\n",
    "import matplotlib.dates as mdates\n",
    "%matplotlib inline\n",
    "import pickle"
   ]
  },
  {
   "cell_type": "code",
   "execution_count": 2,
   "metadata": {},
   "outputs": [],
   "source": [
    "df_hhs = pd.read_csv('https://data.cdc.gov/api/views/9mfq-cb36/rows.csv?accessType=DOWNLOAD')"
   ]
  },
  {
   "cell_type": "markdown",
   "metadata": {},
   "source": [
    "https://healthdata.gov/dataset/United-States-COVID-19-Cases-and-Deaths-by-State-o/hiyb-zgc2"
   ]
  },
  {
   "cell_type": "code",
   "execution_count": 3,
   "metadata": {},
   "outputs": [
    {
     "name": "stdout",
     "output_type": "stream",
     "text": [
      "<class 'pandas.core.frame.DataFrame'>\n",
      "RangeIndex: 44220 entries, 0 to 44219\n",
      "Data columns (total 15 columns):\n",
      " #   Column           Non-Null Count  Dtype         \n",
      "---  ------           --------------  -----         \n",
      " 0   submission_date  44220 non-null  datetime64[ns]\n",
      " 1   state            44220 non-null  object        \n",
      " 2   tot_cases        44220 non-null  int64         \n",
      " 3   conf_cases       23920 non-null  float64       \n",
      " 4   prob_cases       23848 non-null  float64       \n",
      " 5   new_case         44220 non-null  int64         \n",
      " 6   pnew_case        40348 non-null  float64       \n",
      " 7   tot_death        44220 non-null  int64         \n",
      " 8   conf_death       23640 non-null  float64       \n",
      " 9   prob_death       23640 non-null  float64       \n",
      " 10  new_death        44220 non-null  int64         \n",
      " 11  pnew_death       40245 non-null  float64       \n",
      " 12  created_at       44220 non-null  object        \n",
      " 13  consent_cases    36845 non-null  object        \n",
      " 14  consent_deaths   37587 non-null  object        \n",
      "dtypes: datetime64[ns](1), float64(6), int64(4), object(4)\n",
      "memory usage: 5.1+ MB\n"
     ]
    }
   ],
   "source": [
    "df_hhs.submission_date = pd.to_datetime(df_hhs.submission_date)\n",
    "df_hhs.info()"
   ]
  },
  {
   "cell_type": "markdown",
   "metadata": {
    "scrolled": true
   },
   "source": [
    "for x in df_hhs.columns:\n",
    "    print(x)"
   ]
  },
  {
   "cell_type": "code",
   "execution_count": 4,
   "metadata": {},
   "outputs": [],
   "source": [
    "pd.set_option('display.max_columns', None)\n",
    "pd.set_option('display.max_rows', None)"
   ]
  },
  {
   "cell_type": "code",
   "execution_count": 5,
   "metadata": {},
   "outputs": [
    {
     "data": {
      "text/html": [
       "<div>\n",
       "<style scoped>\n",
       "    .dataframe tbody tr th:only-of-type {\n",
       "        vertical-align: middle;\n",
       "    }\n",
       "\n",
       "    .dataframe tbody tr th {\n",
       "        vertical-align: top;\n",
       "    }\n",
       "\n",
       "    .dataframe thead th {\n",
       "        text-align: right;\n",
       "    }\n",
       "</style>\n",
       "<table border=\"1\" class=\"dataframe\">\n",
       "  <thead>\n",
       "    <tr style=\"text-align: right;\">\n",
       "      <th></th>\n",
       "      <th>submission_date</th>\n",
       "      <th>state</th>\n",
       "      <th>tot_cases</th>\n",
       "      <th>conf_cases</th>\n",
       "      <th>prob_cases</th>\n",
       "      <th>new_case</th>\n",
       "      <th>pnew_case</th>\n",
       "      <th>tot_death</th>\n",
       "      <th>conf_death</th>\n",
       "      <th>prob_death</th>\n",
       "      <th>new_death</th>\n",
       "      <th>pnew_death</th>\n",
       "      <th>created_at</th>\n",
       "      <th>consent_cases</th>\n",
       "      <th>consent_deaths</th>\n",
       "    </tr>\n",
       "  </thead>\n",
       "  <tbody>\n",
       "    <tr>\n",
       "      <th>20470</th>\n",
       "      <td>2022-01-23</td>\n",
       "      <td>NY</td>\n",
       "      <td>2492151</td>\n",
       "      <td>NaN</td>\n",
       "      <td>NaN</td>\n",
       "      <td>10625</td>\n",
       "      <td>0.0</td>\n",
       "      <td>25334</td>\n",
       "      <td>NaN</td>\n",
       "      <td>NaN</td>\n",
       "      <td>66</td>\n",
       "      <td>0.0</td>\n",
       "      <td>01/24/2022 03:59:16 PM</td>\n",
       "      <td>Not agree</td>\n",
       "      <td>Not agree</td>\n",
       "    </tr>\n",
       "    <tr>\n",
       "      <th>30559</th>\n",
       "      <td>2022-01-24</td>\n",
       "      <td>NY</td>\n",
       "      <td>2499378</td>\n",
       "      <td>NaN</td>\n",
       "      <td>NaN</td>\n",
       "      <td>7227</td>\n",
       "      <td>0.0</td>\n",
       "      <td>25416</td>\n",
       "      <td>NaN</td>\n",
       "      <td>NaN</td>\n",
       "      <td>82</td>\n",
       "      <td>0.0</td>\n",
       "      <td>01/25/2022 02:33:43 PM</td>\n",
       "      <td>Not agree</td>\n",
       "      <td>Not agree</td>\n",
       "    </tr>\n",
       "    <tr>\n",
       "      <th>20672</th>\n",
       "      <td>2022-01-25</td>\n",
       "      <td>NY</td>\n",
       "      <td>2507445</td>\n",
       "      <td>NaN</td>\n",
       "      <td>NaN</td>\n",
       "      <td>8067</td>\n",
       "      <td>0.0</td>\n",
       "      <td>25507</td>\n",
       "      <td>NaN</td>\n",
       "      <td>NaN</td>\n",
       "      <td>91</td>\n",
       "      <td>0.0</td>\n",
       "      <td>01/26/2022 03:12:02 PM</td>\n",
       "      <td>Not agree</td>\n",
       "      <td>Not agree</td>\n",
       "    </tr>\n",
       "    <tr>\n",
       "      <th>19448</th>\n",
       "      <td>2022-01-26</td>\n",
       "      <td>NY</td>\n",
       "      <td>2517579</td>\n",
       "      <td>NaN</td>\n",
       "      <td>NaN</td>\n",
       "      <td>10134</td>\n",
       "      <td>0.0</td>\n",
       "      <td>25587</td>\n",
       "      <td>NaN</td>\n",
       "      <td>NaN</td>\n",
       "      <td>80</td>\n",
       "      <td>0.0</td>\n",
       "      <td>01/27/2022 02:52:03 PM</td>\n",
       "      <td>Not agree</td>\n",
       "      <td>Not agree</td>\n",
       "    </tr>\n",
       "    <tr>\n",
       "      <th>29147</th>\n",
       "      <td>2022-01-27</td>\n",
       "      <td>NY</td>\n",
       "      <td>2528492</td>\n",
       "      <td>NaN</td>\n",
       "      <td>NaN</td>\n",
       "      <td>10913</td>\n",
       "      <td>0.0</td>\n",
       "      <td>25663</td>\n",
       "      <td>NaN</td>\n",
       "      <td>NaN</td>\n",
       "      <td>76</td>\n",
       "      <td>0.0</td>\n",
       "      <td>01/28/2022 02:17:23 PM</td>\n",
       "      <td>Not agree</td>\n",
       "      <td>Not agree</td>\n",
       "    </tr>\n",
       "  </tbody>\n",
       "</table>\n",
       "</div>"
      ],
      "text/plain": [
       "      submission_date state  tot_cases  conf_cases  prob_cases  new_case  \\\n",
       "20470      2022-01-23    NY    2492151         NaN         NaN     10625   \n",
       "30559      2022-01-24    NY    2499378         NaN         NaN      7227   \n",
       "20672      2022-01-25    NY    2507445         NaN         NaN      8067   \n",
       "19448      2022-01-26    NY    2517579         NaN         NaN     10134   \n",
       "29147      2022-01-27    NY    2528492         NaN         NaN     10913   \n",
       "\n",
       "       pnew_case  tot_death  conf_death  prob_death  new_death  pnew_death  \\\n",
       "20470        0.0      25334         NaN         NaN         66         0.0   \n",
       "30559        0.0      25416         NaN         NaN         82         0.0   \n",
       "20672        0.0      25507         NaN         NaN         91         0.0   \n",
       "19448        0.0      25587         NaN         NaN         80         0.0   \n",
       "29147        0.0      25663         NaN         NaN         76         0.0   \n",
       "\n",
       "                   created_at consent_cases consent_deaths  \n",
       "20470  01/24/2022 03:59:16 PM     Not agree      Not agree  \n",
       "30559  01/25/2022 02:33:43 PM     Not agree      Not agree  \n",
       "20672  01/26/2022 03:12:02 PM     Not agree      Not agree  \n",
       "19448  01/27/2022 02:52:03 PM     Not agree      Not agree  \n",
       "29147  01/28/2022 02:17:23 PM     Not agree      Not agree  "
      ]
     },
     "execution_count": 5,
     "metadata": {},
     "output_type": "execute_result"
    }
   ],
   "source": [
    "aaa = df_hhs.sort_values(by = 'submission_date')\n",
    "aaa[aaa.state == 'NY'].tail()"
   ]
  },
  {
   "cell_type": "code",
   "execution_count": 6,
   "metadata": {},
   "outputs": [
    {
     "data": {
      "text/html": [
       "<div>\n",
       "<style scoped>\n",
       "    .dataframe tbody tr th:only-of-type {\n",
       "        vertical-align: middle;\n",
       "    }\n",
       "\n",
       "    .dataframe tbody tr th {\n",
       "        vertical-align: top;\n",
       "    }\n",
       "\n",
       "    .dataframe thead th {\n",
       "        text-align: right;\n",
       "    }\n",
       "</style>\n",
       "<table border=\"1\" class=\"dataframe\">\n",
       "  <thead>\n",
       "    <tr style=\"text-align: right;\">\n",
       "      <th></th>\n",
       "      <th>submission_date</th>\n",
       "      <th>state</th>\n",
       "      <th>tot_cases</th>\n",
       "      <th>conf_cases</th>\n",
       "      <th>prob_cases</th>\n",
       "      <th>new_case</th>\n",
       "      <th>pnew_case</th>\n",
       "      <th>tot_death</th>\n",
       "      <th>conf_death</th>\n",
       "      <th>prob_death</th>\n",
       "      <th>new_death</th>\n",
       "      <th>pnew_death</th>\n",
       "      <th>created_at</th>\n",
       "      <th>consent_cases</th>\n",
       "      <th>consent_deaths</th>\n",
       "    </tr>\n",
       "  </thead>\n",
       "  <tbody>\n",
       "    <tr>\n",
       "      <th>21781</th>\n",
       "      <td>2022-01-14</td>\n",
       "      <td>OH</td>\n",
       "      <td>2307691</td>\n",
       "      <td>1806548.0</td>\n",
       "      <td>501143.0</td>\n",
       "      <td>41455</td>\n",
       "      <td>10957.0</td>\n",
       "      <td>30922</td>\n",
       "      <td>30922.0</td>\n",
       "      <td>0.0</td>\n",
       "      <td>487</td>\n",
       "      <td>0.0</td>\n",
       "      <td>01/15/2022 02:59:30 PM</td>\n",
       "      <td>Agree</td>\n",
       "      <td>Agree</td>\n",
       "    </tr>\n",
       "  </tbody>\n",
       "</table>\n",
       "</div>"
      ],
      "text/plain": [
       "      submission_date state  tot_cases  conf_cases  prob_cases  new_case  \\\n",
       "21781      2022-01-14    OH    2307691   1806548.0    501143.0     41455   \n",
       "\n",
       "       pnew_case  tot_death  conf_death  prob_death  new_death  pnew_death  \\\n",
       "21781    10957.0      30922     30922.0         0.0        487         0.0   \n",
       "\n",
       "                   created_at consent_cases consent_deaths  \n",
       "21781  01/15/2022 02:59:30 PM         Agree          Agree  "
      ]
     },
     "execution_count": 6,
     "metadata": {},
     "output_type": "execute_result"
    }
   ],
   "source": [
    "aaa[(aaa.submission_date == '2022-01-14') & (aaa['new_death'] == aaa[aaa.submission_date == '2022-01-14']['new_death'].max())]"
   ]
  },
  {
   "cell_type": "code",
   "execution_count": null,
   "metadata": {},
   "outputs": [],
   "source": []
  },
  {
   "cell_type": "code",
   "execution_count": null,
   "metadata": {},
   "outputs": [],
   "source": []
  },
  {
   "cell_type": "code",
   "execution_count": null,
   "metadata": {},
   "outputs": [],
   "source": []
  },
  {
   "cell_type": "code",
   "execution_count": null,
   "metadata": {},
   "outputs": [],
   "source": []
  },
  {
   "cell_type": "code",
   "execution_count": null,
   "metadata": {},
   "outputs": [],
   "source": []
  },
  {
   "cell_type": "code",
   "execution_count": null,
   "metadata": {},
   "outputs": [],
   "source": []
  },
  {
   "cell_type": "code",
   "execution_count": null,
   "metadata": {},
   "outputs": [],
   "source": []
  },
  {
   "cell_type": "code",
   "execution_count": 7,
   "metadata": {},
   "outputs": [
    {
     "data": {
      "text/html": [
       "<div>\n",
       "<style scoped>\n",
       "    .dataframe tbody tr th:only-of-type {\n",
       "        vertical-align: middle;\n",
       "    }\n",
       "\n",
       "    .dataframe tbody tr th {\n",
       "        vertical-align: top;\n",
       "    }\n",
       "\n",
       "    .dataframe thead th {\n",
       "        text-align: right;\n",
       "    }\n",
       "</style>\n",
       "<table border=\"1\" class=\"dataframe\">\n",
       "  <thead>\n",
       "    <tr style=\"text-align: right;\">\n",
       "      <th></th>\n",
       "      <th>submission_date</th>\n",
       "      <th>state</th>\n",
       "      <th>tot_cases</th>\n",
       "      <th>conf_cases</th>\n",
       "      <th>prob_cases</th>\n",
       "      <th>new_case</th>\n",
       "      <th>pnew_case</th>\n",
       "      <th>tot_death</th>\n",
       "      <th>conf_death</th>\n",
       "      <th>prob_death</th>\n",
       "      <th>new_death</th>\n",
       "      <th>pnew_death</th>\n",
       "      <th>created_at</th>\n",
       "      <th>consent_cases</th>\n",
       "      <th>consent_deaths</th>\n",
       "    </tr>\n",
       "  </thead>\n",
       "  <tbody>\n",
       "    <tr>\n",
       "      <th>0</th>\n",
       "      <td>2021-04-01</td>\n",
       "      <td>CA</td>\n",
       "      <td>3570660</td>\n",
       "      <td>3570660.0</td>\n",
       "      <td>0.0</td>\n",
       "      <td>2234</td>\n",
       "      <td>0.0</td>\n",
       "      <td>58090</td>\n",
       "      <td>58090.0</td>\n",
       "      <td>0.0</td>\n",
       "      <td>154</td>\n",
       "      <td>0.0</td>\n",
       "      <td>04/03/2021 12:00:00 AM</td>\n",
       "      <td>Agree</td>\n",
       "      <td>Agree</td>\n",
       "    </tr>\n",
       "    <tr>\n",
       "      <th>1</th>\n",
       "      <td>2021-05-31</td>\n",
       "      <td>CA</td>\n",
       "      <td>3685032</td>\n",
       "      <td>3685032.0</td>\n",
       "      <td>0.0</td>\n",
       "      <td>644</td>\n",
       "      <td>0.0</td>\n",
       "      <td>62011</td>\n",
       "      <td>62011.0</td>\n",
       "      <td>0.0</td>\n",
       "      <td>5</td>\n",
       "      <td>0.0</td>\n",
       "      <td>06/02/2021 12:00:00 AM</td>\n",
       "      <td>Agree</td>\n",
       "      <td>Agree</td>\n",
       "    </tr>\n",
       "    <tr>\n",
       "      <th>2</th>\n",
       "      <td>2020-07-14</td>\n",
       "      <td>CA</td>\n",
       "      <td>336447</td>\n",
       "      <td>336447.0</td>\n",
       "      <td>0.0</td>\n",
       "      <td>7285</td>\n",
       "      <td>0.0</td>\n",
       "      <td>7039</td>\n",
       "      <td>7039.0</td>\n",
       "      <td>0.0</td>\n",
       "      <td>25</td>\n",
       "      <td>0.0</td>\n",
       "      <td>07/16/2020 12:00:00 AM</td>\n",
       "      <td>Agree</td>\n",
       "      <td>Agree</td>\n",
       "    </tr>\n",
       "    <tr>\n",
       "      <th>3</th>\n",
       "      <td>2020-02-06</td>\n",
       "      <td>NE</td>\n",
       "      <td>0</td>\n",
       "      <td>NaN</td>\n",
       "      <td>NaN</td>\n",
       "      <td>0</td>\n",
       "      <td>NaN</td>\n",
       "      <td>0</td>\n",
       "      <td>NaN</td>\n",
       "      <td>NaN</td>\n",
       "      <td>0</td>\n",
       "      <td>NaN</td>\n",
       "      <td>03/26/2020 04:22:39 PM</td>\n",
       "      <td>Agree</td>\n",
       "      <td>Agree</td>\n",
       "    </tr>\n",
       "    <tr>\n",
       "      <th>4</th>\n",
       "      <td>2020-07-30</td>\n",
       "      <td>ME</td>\n",
       "      <td>3910</td>\n",
       "      <td>3497.0</td>\n",
       "      <td>413.0</td>\n",
       "      <td>22</td>\n",
       "      <td>2.0</td>\n",
       "      <td>123</td>\n",
       "      <td>122.0</td>\n",
       "      <td>1.0</td>\n",
       "      <td>2</td>\n",
       "      <td>0.0</td>\n",
       "      <td>07/31/2020 02:35:06 PM</td>\n",
       "      <td>Agree</td>\n",
       "      <td>Agree</td>\n",
       "    </tr>\n",
       "  </tbody>\n",
       "</table>\n",
       "</div>"
      ],
      "text/plain": [
       "  submission_date state  tot_cases  conf_cases  prob_cases  new_case  \\\n",
       "0      2021-04-01    CA    3570660   3570660.0         0.0      2234   \n",
       "1      2021-05-31    CA    3685032   3685032.0         0.0       644   \n",
       "2      2020-07-14    CA     336447    336447.0         0.0      7285   \n",
       "3      2020-02-06    NE          0         NaN         NaN         0   \n",
       "4      2020-07-30    ME       3910      3497.0       413.0        22   \n",
       "\n",
       "   pnew_case  tot_death  conf_death  prob_death  new_death  pnew_death  \\\n",
       "0        0.0      58090     58090.0         0.0        154         0.0   \n",
       "1        0.0      62011     62011.0         0.0          5         0.0   \n",
       "2        0.0       7039      7039.0         0.0         25         0.0   \n",
       "3        NaN          0         NaN         NaN          0         NaN   \n",
       "4        2.0        123       122.0         1.0          2         0.0   \n",
       "\n",
       "               created_at consent_cases consent_deaths  \n",
       "0  04/03/2021 12:00:00 AM         Agree          Agree  \n",
       "1  06/02/2021 12:00:00 AM         Agree          Agree  \n",
       "2  07/16/2020 12:00:00 AM         Agree          Agree  \n",
       "3  03/26/2020 04:22:39 PM         Agree          Agree  \n",
       "4  07/31/2020 02:35:06 PM         Agree          Agree  "
      ]
     },
     "execution_count": 7,
     "metadata": {},
     "output_type": "execute_result"
    }
   ],
   "source": [
    "df_hhs.head()"
   ]
  },
  {
   "cell_type": "code",
   "execution_count": 8,
   "metadata": {
    "scrolled": true
   },
   "outputs": [
    {
     "data": {
      "text/plain": [
       "submission_date       2022-01-27 00:00:00\n",
       "state                                  WY\n",
       "tot_cases                         8137057\n",
       "conf_cases                      7629666.0\n",
       "prob_cases                       565496.0\n",
       "new_case                           319809\n",
       "pnew_case                         73735.0\n",
       "tot_death                           78571\n",
       "conf_death                        71408.0\n",
       "prob_death                         5515.0\n",
       "new_death                            1178\n",
       "pnew_death                         2919.0\n",
       "created_at         12/31/2021 12:00:00 AM\n",
       "dtype: object"
      ]
     },
     "execution_count": 8,
     "metadata": {},
     "output_type": "execute_result"
    }
   ],
   "source": [
    "df_hhs.max()"
   ]
  },
  {
   "cell_type": "code",
   "execution_count": 9,
   "metadata": {},
   "outputs": [
    {
     "ename": "AttributeError",
     "evalue": "'DataFrame' object has no attribute 'date'",
     "output_type": "error",
     "traceback": [
      "\u001b[0;31m---------------------------------------------------------------------------\u001b[0m",
      "\u001b[0;31mAttributeError\u001b[0m                            Traceback (most recent call last)",
      "\u001b[0;32m<ipython-input-9-48d7223fbbc4>\u001b[0m in \u001b[0;36m<module>\u001b[0;34m\u001b[0m\n\u001b[0;32m----> 1\u001b[0;31m \u001b[0mdate_list\u001b[0m \u001b[0;34m=\u001b[0m \u001b[0mdf_hhs\u001b[0m\u001b[0;34m.\u001b[0m\u001b[0mdate\u001b[0m\u001b[0;34m.\u001b[0m\u001b[0munique\u001b[0m\u001b[0;34m(\u001b[0m\u001b[0;34m)\u001b[0m\u001b[0;34m\u001b[0m\u001b[0;34m\u001b[0m\u001b[0m\n\u001b[0m",
      "\u001b[0;32m~/.local/lib/python3.8/site-packages/pandas/core/generic.py\u001b[0m in \u001b[0;36m__getattr__\u001b[0;34m(self, name)\u001b[0m\n\u001b[1;32m   5463\u001b[0m             \u001b[0;32mif\u001b[0m \u001b[0mself\u001b[0m\u001b[0;34m.\u001b[0m\u001b[0m_info_axis\u001b[0m\u001b[0;34m.\u001b[0m\u001b[0m_can_hold_identifiers_and_holds_name\u001b[0m\u001b[0;34m(\u001b[0m\u001b[0mname\u001b[0m\u001b[0;34m)\u001b[0m\u001b[0;34m:\u001b[0m\u001b[0;34m\u001b[0m\u001b[0;34m\u001b[0m\u001b[0m\n\u001b[1;32m   5464\u001b[0m                 \u001b[0;32mreturn\u001b[0m \u001b[0mself\u001b[0m\u001b[0;34m[\u001b[0m\u001b[0mname\u001b[0m\u001b[0;34m]\u001b[0m\u001b[0;34m\u001b[0m\u001b[0;34m\u001b[0m\u001b[0m\n\u001b[0;32m-> 5465\u001b[0;31m             \u001b[0;32mreturn\u001b[0m \u001b[0mobject\u001b[0m\u001b[0;34m.\u001b[0m\u001b[0m__getattribute__\u001b[0m\u001b[0;34m(\u001b[0m\u001b[0mself\u001b[0m\u001b[0;34m,\u001b[0m \u001b[0mname\u001b[0m\u001b[0;34m)\u001b[0m\u001b[0;34m\u001b[0m\u001b[0;34m\u001b[0m\u001b[0m\n\u001b[0m\u001b[1;32m   5466\u001b[0m \u001b[0;34m\u001b[0m\u001b[0m\n\u001b[1;32m   5467\u001b[0m     \u001b[0;32mdef\u001b[0m \u001b[0m__setattr__\u001b[0m\u001b[0;34m(\u001b[0m\u001b[0mself\u001b[0m\u001b[0;34m,\u001b[0m \u001b[0mname\u001b[0m\u001b[0;34m:\u001b[0m \u001b[0mstr\u001b[0m\u001b[0;34m,\u001b[0m \u001b[0mvalue\u001b[0m\u001b[0;34m)\u001b[0m \u001b[0;34m->\u001b[0m \u001b[0;32mNone\u001b[0m\u001b[0;34m:\u001b[0m\u001b[0;34m\u001b[0m\u001b[0;34m\u001b[0m\u001b[0m\n",
      "\u001b[0;31mAttributeError\u001b[0m: 'DataFrame' object has no attribute 'date'"
     ]
    }
   ],
   "source": [
    "date_list = df_hhs.date.unique()"
   ]
  },
  {
   "cell_type": "code",
   "execution_count": null,
   "metadata": {},
   "outputs": [],
   "source": [
    "date_list.sort()"
   ]
  },
  {
   "cell_type": "markdown",
   "metadata": {},
   "source": [
    "date_list"
   ]
  },
  {
   "cell_type": "code",
   "execution_count": null,
   "metadata": {},
   "outputs": [],
   "source": []
  },
  {
   "cell_type": "code",
   "execution_count": null,
   "metadata": {},
   "outputs": [],
   "source": [
    "aaa = []\n",
    "for x in date_list:\n",
    "    #print(df_hhs[df_hhs.date == x]['critical_staffing_shortage_today_yes'].sum())\n",
    "    aaa.append((x, df_hhs[df_hhs.date == x]['critical_staffing_shortage_today_yes'].sum()))"
   ]
  },
  {
   "cell_type": "code",
   "execution_count": null,
   "metadata": {},
   "outputs": [],
   "source": [
    "df_total_critical = pd.DataFrame(aaa, columns=['date','reported_critical_sum'])"
   ]
  },
  {
   "cell_type": "code",
   "execution_count": null,
   "metadata": {},
   "outputs": [],
   "source": [
    "bbb = df_total_critical[-500::]\n",
    "ccc = bbb.set_index('date')\n",
    "ccc_moving = ccc.rolling(7).mean().shift()"
   ]
  },
  {
   "cell_type": "code",
   "execution_count": null,
   "metadata": {},
   "outputs": [],
   "source": [
    "import datetime\n",
    "import matplotlib.dates as mdates\n",
    "months = mdates.MonthLocator()\n",
    "days = mdates.DayLocator()\n",
    "timeFmt = mdates.DateFormatter('%b %Y')\n",
    "fig, ax = plt.subplots()\n",
    "fig.set_size_inches(54,22)\n",
    "ax.xaxis.set_major_locator(months)\n",
    "ax.xaxis.set_major_formatter(timeFmt)\n",
    "ax.tick_params(axis='both', labelsize=28)\n",
    "#ax.xaxis.set_minor_locator(months)\n",
    "#plt.rcParams[\"figure.figsize\"] = [17.00, 3.50]\n",
    "plt.title('Number of US Hospitals Reporting Critical Staff Shortage Per US Dept HHS', fontsize = 44)\n",
    "plt.xlabel('Date',color='black', fontsize = 40)\n",
    "plt.ylabel('Number Hospitals Reporting Critical Shortage',color='black', fontsize = 40)\n",
    "plt.bar(ccc.index, bbb.reported_critical_sum)\n",
    "plt.plot(ccc_moving.reported_critical_sum, 'ro')\n",
    "plt.legend(['7 Day Rolling Average','Daily Active Cases'], fontsize = 40)\n",
    "#plt.legend(['7 Day Rolling Average','Daily Reported Critical Shortage'])\n",
    "fig.savefig('HHS_critical_staffing_shortage_today.png')"
   ]
  },
  {
   "cell_type": "markdown",
   "metadata": {},
   "source": [
    "for x in date_list:\n",
    "    print(df_hhs[df_hhs.date == x]['deaths_covid'].sum())"
   ]
  },
  {
   "cell_type": "code",
   "execution_count": null,
   "metadata": {},
   "outputs": [],
   "source": [
    "aaa = []\n",
    "for x in date_list:\n",
    "    #print(df_hhs[df_hhs.date == x]['deaths_covid'].sum())\n",
    "    aaa.append((x, df_hhs[df_hhs.date == x]['deaths_covid'].sum()))"
   ]
  },
  {
   "cell_type": "code",
   "execution_count": null,
   "metadata": {},
   "outputs": [],
   "source": [
    "ccc.tail()"
   ]
  },
  {
   "cell_type": "code",
   "execution_count": null,
   "metadata": {},
   "outputs": [],
   "source": []
  },
  {
   "cell_type": "code",
   "execution_count": null,
   "metadata": {},
   "outputs": [],
   "source": [
    "df_deaths_covid = pd.DataFrame(aaa,columns=['date', 'deaths_covid'])"
   ]
  },
  {
   "cell_type": "code",
   "execution_count": null,
   "metadata": {},
   "outputs": [],
   "source": [
    "df_deaths_covid.info()"
   ]
  },
  {
   "cell_type": "code",
   "execution_count": null,
   "metadata": {},
   "outputs": [],
   "source": [
    "ccc = df_deaths_covid.set_index('date')[-500::]\n",
    "ccc_rolling = ccc.rolling(7).mean().shift()"
   ]
  },
  {
   "cell_type": "code",
   "execution_count": null,
   "metadata": {},
   "outputs": [],
   "source": [
    "ccc.tail()"
   ]
  },
  {
   "cell_type": "code",
   "execution_count": null,
   "metadata": {},
   "outputs": [],
   "source": [
    "import datetime\n",
    "import matplotlib.dates as mdates\n",
    "months = mdates.MonthLocator()\n",
    "days = mdates.DayLocator()\n",
    "timeFmt = mdates.DateFormatter('%b %Y')\n",
    "fig, ax = plt.subplots()\n",
    "fig.set_size_inches(54,22)\n",
    "ax.xaxis.set_major_locator(months)\n",
    "ax.xaxis.set_major_formatter(timeFmt)\n",
    "ax.tick_params(axis='both', labelsize=28)\n",
    "#ax.xaxis.set_minor_locator(months)\n",
    "#plt.rcParams[\"figure.figsize\"] = [17.00, 3.50]\n",
    "plt.title('Total Daily US Hospital Reported COVID-19 Deaths Per US Dept HHS', fontsize = 44)\n",
    "plt.xlabel('Date',color='black', fontsize = 40)\n",
    "plt.ylabel('Total Number of COVID-19 Daily Deaths',color='black', fontsize = 40)\n",
    "plt.bar(ccc.index, ccc.deaths_covid, color = 'black')\n",
    "plt.plot(ccc_rolling.deaths_covid, 'ro',markersize = 20)\n",
    "plt.legend(['7 Day Rolling Average','Daily COVID-19 Deaths'], fontsize = 40)\n",
    "#plt.legend(['7 Day Rolling Average','Daily Reported Deaths'])\n",
    "fig.savefig('HHS_hospital_deaths.png')"
   ]
  },
  {
   "cell_type": "code",
   "execution_count": null,
   "metadata": {},
   "outputs": [],
   "source": [
    "aaa = []\n",
    "for x in date_list:\n",
    "   # print(df_hhs[df_hhs.date == x]['hospital_onset_covid'].sum())\n",
    "    aaa.append((x, df_hhs[df_hhs.date == x]['hospital_onset_covid'].sum()))\n",
    "df_hospital_onset_covid = pd.DataFrame(aaa,columns=['date', 'hospital_onset_covid'])"
   ]
  },
  {
   "cell_type": "code",
   "execution_count": null,
   "metadata": {},
   "outputs": [],
   "source": [
    "ccc = df_hospital_onset_covid.set_index('date')[-400::]\n",
    "ccc_rolling = ccc.rolling(7).mean().shift()\n",
    "ccc.tail()"
   ]
  },
  {
   "cell_type": "code",
   "execution_count": null,
   "metadata": {},
   "outputs": [],
   "source": [
    "import datetime\n",
    "import matplotlib.dates as mdates\n",
    "months = mdates.MonthLocator()\n",
    "days = mdates.DayLocator()\n",
    "timeFmt = mdates.DateFormatter('%b %Y')\n",
    "fig, ax = plt.subplots()\n",
    "fig.set_size_inches(54,22)\n",
    "ax.xaxis.set_major_locator(months)\n",
    "ax.xaxis.set_major_formatter(timeFmt)\n",
    "ax.tick_params(axis='both', labelsize=28)\n",
    "#ax.xaxis.set_minor_locator(months)\n",
    "#plt.rcParams[\"figure.figsize\"] = [17.00, 3.50]\n",
    "plt.title('Daily Number of Patients Catching COVID-19 in US Hospitals Per US Dept HHS', fontsize = 44)\n",
    "plt.xlabel('Date',color='black', fontsize = 40)\n",
    "plt.ylabel('Daily Number Infected w/ COVID-19 from Hospitalization',color='black', fontsize = 40)\n",
    "plt.bar(ccc.index, ccc.hospital_onset_covid, color = 'purple')\n",
    "plt.plot(ccc_rolling.hospital_onset_covid, 'go',markersize = 20)\n",
    "plt.legend(['7 Day Rolling Average','Daily Number Patients Infected w/ COVID-19 In Hospital'], fontsize = 40)\n",
    "#plt.legend(['7 Day Rolling Average','Daily Reported Deaths'])\n",
    "fig.savefig('HHS_hospital_onset_covid.png')"
   ]
  },
  {
   "cell_type": "code",
   "execution_count": null,
   "metadata": {},
   "outputs": [],
   "source": [
    "aaa = []\n",
    "for x in date_list:\n",
    "    #print(df_hhs[df_hhs.date == x]['inpatient_beds_used_covid'].sum())\n",
    "    aaa.append((x, df_hhs[df_hhs.date == x]['inpatient_beds_used_covid'].sum()))\n",
    "df_inpatient_beds_used_covid = pd.DataFrame(aaa,columns=['date', 'inpatient_beds_used_covid'])"
   ]
  },
  {
   "cell_type": "code",
   "execution_count": null,
   "metadata": {},
   "outputs": [],
   "source": [
    "ccc = df_inpatient_beds_used_covid.set_index('date')\n",
    "ccc_rolling = ccc.rolling(7).mean().shift()\n",
    "ccc.tail()"
   ]
  },
  {
   "cell_type": "code",
   "execution_count": null,
   "metadata": {},
   "outputs": [],
   "source": [
    "import datetime\n",
    "import matplotlib.dates as mdates\n",
    "months = mdates.MonthLocator()\n",
    "days = mdates.DayLocator()\n",
    "timeFmt = mdates.DateFormatter('%b %Y')\n",
    "fig, ax = plt.subplots()\n",
    "fig.set_size_inches(64,32)\n",
    "ax.xaxis.set_major_locator(months)\n",
    "ax.xaxis.set_major_formatter(timeFmt)\n",
    "ax.tick_params(axis='y', labelsize=30)\n",
    "ax.tick_params(axis='x', labelsize=25)\n",
    "#ax.xaxis.set_minor_locator(months)\n",
    "#plt.rcParams[\"figure.figsize\"] = [17.00, 3.50]\n",
    "plt.title('Daily Number of Patient Beds w/ COVID-19 in US Hospitals Per US Dept HHS', fontsize = 54)\n",
    "plt.xlabel('Date',color='black', fontsize = 50)\n",
    "plt.ylabel('Daily Number Patient Beds w/ COVID-19',color='black', fontsize = 50)\n",
    "plt.bar(ccc.index, ccc.inpatient_beds_used_covid, color = 'red')\n",
    "plt.plot(ccc_rolling.inpatient_beds_used_covid, 'bo',markersize = 20)\n",
    "plt.legend(['7 Day Rolling Average','Daily Number Patient Beds w/ COVID-19 In US Hospitals'], fontsize = 50)\n",
    "fig.savefig('HHS_inpaitent_beds_covid.png')"
   ]
  },
  {
   "cell_type": "code",
   "execution_count": null,
   "metadata": {},
   "outputs": [],
   "source": [
    "ccc.tail()"
   ]
  },
  {
   "cell_type": "markdown",
   "metadata": {},
   "source": [
    "df_hhs.total_pediatric_patients_hospitalized_confirmed_and_suspected_covid"
   ]
  },
  {
   "cell_type": "code",
   "execution_count": null,
   "metadata": {},
   "outputs": [],
   "source": [
    "aaa = []\n",
    "for x in date_list:\n",
    "    #print(df_hhs[df_hhs.date == x]['total_pediatric_patients_hospitalized_confirmed_and_suspected_covid'].sum())\n",
    "    aaa.append((x, df_hhs[df_hhs.date == x]['total_pediatric_patients_hospitalized_confirmed_and_suspected_covid'].sum()))\n",
    "df_total_pediatric_patients_hospitalized_confirmed_and_suspected_covid = pd.DataFrame(aaa,columns=['date', 'total_pediatric_patients_hospitalized_confirmed_and_suspected_covid'])"
   ]
  },
  {
   "cell_type": "code",
   "execution_count": null,
   "metadata": {},
   "outputs": [],
   "source": [
    "df_total_pediatric_patients_hospitalized_confirmed_and_suspected_covid.tail()"
   ]
  },
  {
   "cell_type": "code",
   "execution_count": null,
   "metadata": {},
   "outputs": [],
   "source": [
    "ccc = df_total_pediatric_patients_hospitalized_confirmed_and_suspected_covid.set_index('date')[-520::]\n",
    "ccc_rolling = ccc.rolling(7).mean().shift()"
   ]
  },
  {
   "cell_type": "code",
   "execution_count": null,
   "metadata": {},
   "outputs": [],
   "source": [
    "import datetime\n",
    "import matplotlib.dates as mdates\n",
    "months = mdates.MonthLocator()\n",
    "days = mdates.DayLocator()\n",
    "timeFmt = mdates.DateFormatter('%b %Y')\n",
    "fig, ax = plt.subplots()\n",
    "fig.set_size_inches(60,32)\n",
    "ax.xaxis.set_major_locator(months)\n",
    "ax.xaxis.set_major_formatter(timeFmt)\n",
    "ax.tick_params(axis='both', labelsize=30)\n",
    "plt.title('Daily Total Pediatric Patients w/ Confirmed or Suspected COVID-19 in US Hospitals Per US Dept HHS', fontsize = 60)\n",
    "plt.xlabel('Date',color='black', fontsize = 50)\n",
    "plt.ylabel('Number Daily COVID-19 Pediatric Patients',color='black', fontsize = 50)\n",
    "plt.bar(ccc.index, ccc.total_pediatric_patients_hospitalized_confirmed_and_suspected_covid, color = 'plum')\n",
    "plt.plot(ccc_rolling.total_pediatric_patients_hospitalized_confirmed_and_suspected_covid, 'bo',markersize = 20)\n",
    "plt.legend(['7 Day Rolling Average','Daily Number Pediatric COVID-19 Patients In US Hospitals'], fontsize = 50)\n",
    "fig.savefig('HHS_total_pediatric.png')"
   ]
  },
  {
   "cell_type": "markdown",
   "metadata": {},
   "source": [
    "adult_icu_bed_covid_utilization"
   ]
  },
  {
   "cell_type": "code",
   "execution_count": null,
   "metadata": {},
   "outputs": [],
   "source": [
    "aaa = []\n",
    "for x in date_list:\n",
    "    #print(df_hhs[df_hhs.date == x]['adult_icu_bed_covid_utilization'].sum())\n",
    "    aaa.append((x, df_hhs[df_hhs.date == x]['adult_icu_bed_covid_utilization'].sum()))\n",
    "df_adult_icu_bed_covid_utilization = pd.DataFrame(aaa,columns=['date', 'adult_icu_bed_covid_utilization'])"
   ]
  },
  {
   "cell_type": "markdown",
   "metadata": {},
   "source": [
    "staffed_icu_adult_patients_confirmed_and_suspected_covid "
   ]
  },
  {
   "cell_type": "code",
   "execution_count": null,
   "metadata": {},
   "outputs": [],
   "source": [
    "aaa = []\n",
    "for x in date_list:\n",
    "    #print(df_hhs[df_hhs.date == x]['staffed_icu_adult_patients_confirmed_and_suspected_covid'].sum())\n",
    "    aaa.append((x, df_hhs[df_hhs.date == x]['staffed_icu_adult_patients_confirmed_and_suspected_covid'].sum()))\n",
    "df_staffed_icu_adult_patients_confirmed_and_suspected_covid = pd.DataFrame(aaa,columns=['date', 'staffed_icu_adult_patients_confirmed_and_suspected_covid'])"
   ]
  },
  {
   "cell_type": "code",
   "execution_count": null,
   "metadata": {},
   "outputs": [],
   "source": [
    "ccc = df_staffed_icu_adult_patients_confirmed_and_suspected_covid.set_index('date')[-500::]\n",
    "ccc_rolling = ccc.rolling(7).mean().shift()\n",
    "ccc.tail()"
   ]
  },
  {
   "cell_type": "code",
   "execution_count": null,
   "metadata": {},
   "outputs": [],
   "source": [
    "import datetime\n",
    "import matplotlib.dates as mdates\n",
    "months = mdates.MonthLocator()\n",
    "days = mdates.DayLocator()\n",
    "timeFmt = mdates.DateFormatter('%b %Y')\n",
    "fig, ax = plt.subplots()\n",
    "fig.set_size_inches(54,22)\n",
    "ax.xaxis.set_major_locator(months)\n",
    "ax.xaxis.set_major_formatter(timeFmt)\n",
    "ax.tick_params(axis='both', labelsize=28)\n",
    "#ax.xaxis.set_minor_locator(months)\n",
    "#plt.rcParams[\"figure.figsize\"] = [17.00, 3.50]\n",
    "plt.title('Daily Number US Staffed Adult COVID-19 ICU Patients Per US Dept HHS', fontsize = 44)\n",
    "plt.xlabel('Date',color='black', fontsize = 40)\n",
    "plt.ylabel('Daily Number ICU Patients w/ COVID-19',color='black', fontsize = 40)\n",
    "plt.bar(ccc.index, ccc.staffed_icu_adult_patients_confirmed_and_suspected_covid, color = 'aquamarine')\n",
    "plt.plot(ccc_rolling.staffed_icu_adult_patients_confirmed_and_suspected_covid, 'go',markersize = 20)\n",
    "plt.legend(['7 Day Rolling Average','Daily Number US ICU Patients w/ COVID-19 In Hospital'], fontsize = 40)\n",
    "#plt.legend(['7 Day Rolling Average','Daily Reported Deaths'])\n",
    "fig.savefig('HHS_staffed_adult_ICU.png')"
   ]
  },
  {
   "cell_type": "markdown",
   "metadata": {},
   "source": [
    "previous_day_admission_adult_covid_confirmed "
   ]
  },
  {
   "cell_type": "code",
   "execution_count": null,
   "metadata": {},
   "outputs": [],
   "source": [
    "aaa = []\n",
    "for x in date_list:\n",
    "    #print(df_hhs[df_hhs.date == x]['previous_day_admission_adult_covid_confirmed'].sum())\n",
    "    aaa.append((x, df_hhs[df_hhs.date == x]['previous_day_admission_adult_covid_confirmed'].sum()))\n",
    "df_previous_day_admission_adult_covid_confirmed = pd.DataFrame(aaa,columns=['date', 'previous_day_admission_adult_covid_confirmed'])"
   ]
  },
  {
   "cell_type": "code",
   "execution_count": null,
   "metadata": {},
   "outputs": [],
   "source": [
    "ccc = df_previous_day_admission_adult_covid_confirmed.set_index('date')[-500::]\n",
    "ccc_rolling = ccc.rolling(7).mean().shift()\n",
    "ccc.tail()"
   ]
  },
  {
   "cell_type": "code",
   "execution_count": null,
   "metadata": {},
   "outputs": [],
   "source": [
    "import datetime\n",
    "import matplotlib.dates as mdates\n",
    "months = mdates.MonthLocator()\n",
    "days = mdates.DayLocator()\n",
    "timeFmt = mdates.DateFormatter('%b %Y')\n",
    "fig, ax = plt.subplots()\n",
    "fig.set_size_inches(54,22)\n",
    "ax.xaxis.set_major_locator(months)\n",
    "ax.xaxis.set_major_formatter(timeFmt)\n",
    "ax.tick_params(axis='both', labelsize=28)\n",
    "#ax.xaxis.set_minor_locator(months)\n",
    "#plt.rcParams[\"figure.figsize\"] = [17.00, 3.50]\n",
    "plt.title('Daily Number US Hospital Admitted Adult COVID-19 Patients Per US Dept HHS', fontsize = 44)\n",
    "plt.xlabel('Date',color='black', fontsize = 40)\n",
    "plt.ylabel('Daily Number COVID19 Patients Admitted',color='black', fontsize = 40)\n",
    "plt.bar(ccc.index, ccc.previous_day_admission_adult_covid_confirmed, color = 'violet')\n",
    "plt.plot(ccc_rolling.previous_day_admission_adult_covid_confirmed, 'bo',markersize = 20)\n",
    "plt.legend(['7 Day Rolling Average','Daily Number Admissions COVID-19 Patients'], fontsize = 40)\n",
    "fig.savefig('previous_day_admission_adult_covid_confirmed.png')"
   ]
  },
  {
   "cell_type": "markdown",
   "metadata": {},
   "source": [
    "previous_day_admission_pediatric_covid_confirmed   "
   ]
  },
  {
   "cell_type": "code",
   "execution_count": null,
   "metadata": {},
   "outputs": [],
   "source": [
    "aaa = []\n",
    "for x in date_list:\n",
    "    #print(df_hhs[df_hhs.date == x]['previous_day_admission_pediatric_covid_confirmed'].sum())\n",
    "    aaa.append((x, df_hhs[df_hhs.date == x]['previous_day_admission_pediatric_covid_confirmed'].sum()))\n",
    "df_previous_day_admission_pediatric_covid_confirmed = pd.DataFrame(aaa,columns=['date', 'previous_day_admission_pediatric_covid_confirmed'])"
   ]
  },
  {
   "cell_type": "code",
   "execution_count": null,
   "metadata": {},
   "outputs": [],
   "source": []
  },
  {
   "cell_type": "code",
   "execution_count": null,
   "metadata": {},
   "outputs": [],
   "source": [
    "ccc = df_previous_day_admission_pediatric_covid_confirmed.set_index('date')[-500::]\n",
    "ccc_rolling = ccc.rolling(7).mean().shift()"
   ]
  },
  {
   "cell_type": "code",
   "execution_count": null,
   "metadata": {},
   "outputs": [],
   "source": [
    "import datetime\n",
    "import matplotlib.dates as mdates\n",
    "months = mdates.MonthLocator()\n",
    "days = mdates.DayLocator()\n",
    "timeFmt = mdates.DateFormatter('%b %Y')\n",
    "fig, ax = plt.subplots()\n",
    "fig.set_size_inches(54,22)\n",
    "ax.xaxis.set_major_locator(months)\n",
    "ax.xaxis.set_major_formatter(timeFmt)\n",
    "ax.tick_params(axis='both', labelsize=28)\n",
    "#ax.xaxis.set_minor_locator(months)\n",
    "#plt.rcParams[\"figure.figsize\"] = [17.00, 3.50]\n",
    "plt.title('Daily Number US Hospital Admitted Pediatric COVID-19 Patients Per US Dept HHS', fontsize = 44)\n",
    "plt.xlabel('Date',color='black', fontsize = 40)\n",
    "plt.ylabel('Daily Number Pediatric COVID19 Patients Admitted',color='black', fontsize = 40)\n",
    "plt.bar(ccc.index, ccc.previous_day_admission_pediatric_covid_confirmed, color = 'orange')\n",
    "plt.plot(ccc_rolling.previous_day_admission_pediatric_covid_confirmed, 'ko',markersize = 20)\n",
    "plt.legend(['7 Day Rolling Average','Daily Number Pediatric Admissions COVID-19 Patients'], fontsize = 40)\n",
    "fig.savefig('hhs_previous_day_admission_pediatric_covid_confirmed.png')"
   ]
  },
  {
   "cell_type": "code",
   "execution_count": null,
   "metadata": {},
   "outputs": [],
   "source": [
    "ccc.tail()"
   ]
  },
  {
   "cell_type": "code",
   "execution_count": null,
   "metadata": {},
   "outputs": [],
   "source": []
  },
  {
   "cell_type": "code",
   "execution_count": null,
   "metadata": {},
   "outputs": [],
   "source": []
  }
 ],
 "metadata": {
  "kernelspec": {
   "display_name": "Python 3",
   "language": "python",
   "name": "python3"
  },
  "language_info": {
   "codemirror_mode": {
    "name": "ipython",
    "version": 3
   },
   "file_extension": ".py",
   "mimetype": "text/x-python",
   "name": "python",
   "nbconvert_exporter": "python",
   "pygments_lexer": "ipython3",
   "version": "3.8.10"
  }
 },
 "nbformat": 4,
 "nbformat_minor": 4
}
