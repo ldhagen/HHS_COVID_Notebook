{
 "cells": [
  {
   "cell_type": "code",
   "execution_count": 1,
   "metadata": {},
   "outputs": [],
   "source": [
    "import pandas as pd\n",
    "import matplotlib.pyplot as plt\n",
    "import numpy as np\n",
    "import datetime\n",
    "from datetime import date, timedelta\n",
    "import datetime\n",
    "import matplotlib.dates as mdates\n",
    "%matplotlib inline\n",
    "import pickle"
   ]
  },
  {
   "cell_type": "code",
   "execution_count": 2,
   "metadata": {},
   "outputs": [],
   "source": [
    "df_covid_hospital = pd.read_csv('https://healthdata.gov/api/views/anag-cw7u/rows.csv?accessType=DOWNLOAD', parse_dates = ['collection_week'])"
   ]
  },
  {
   "cell_type": "code",
   "execution_count": 3,
   "metadata": {},
   "outputs": [
    {
     "name": "stdout",
     "output_type": "stream",
     "text": [
      "<class 'pandas.core.frame.DataFrame'>\n",
      "RangeIndex: 369758 entries, 0 to 369757\n",
      "Columns: 106 entries, hospital_pk to is_corrected\n",
      "dtypes: bool(2), datetime64[ns](1), float64(71), int64(23), object(9)\n",
      "memory usage: 294.1+ MB\n"
     ]
    }
   ],
   "source": [
    "df_covid_hospital.info()"
   ]
  },
  {
   "cell_type": "markdown",
   "metadata": {},
   "source": [
    "https://healthdata.gov/Hospital/COVID-19-Reported-Patient-Impact-and-Hospital-Capa/anag-cw7u"
   ]
  },
  {
   "cell_type": "code",
   "execution_count": 4,
   "metadata": {},
   "outputs": [],
   "source": [
    "pd.set_option('display.max_columns', None)\n",
    "pd.set_option('display.max_rows', None)"
   ]
  },
  {
   "cell_type": "code",
   "execution_count": 5,
   "metadata": {},
   "outputs": [
    {
     "data": {
      "text/plain": [
       "hospital_pk                                                                           ff9032c172057190bf52f523d253c79af2d5f74d007084...\n",
       "collection_week                                                                                                     2021-12-24 00:00:00\n",
       "state                                                                                                                                WY\n",
       "hospital_name                                                                         ZUCKERBERG SAN FRANCISCO GENERAL HOSP & TRAUMA...\n",
       "zip                                                                                                                             99901.0\n",
       "hospital_subtype                                                                                                             Short Term\n",
       "fips_code                                                                                                                       78020.0\n",
       "is_metro_micro                                                                                                                     True\n",
       "total_beds_7_day_avg                                                                                                             5015.4\n",
       "all_adult_hospital_beds_7_day_avg                                                                                                4780.0\n",
       "all_adult_hospital_inpatient_beds_7_day_avg                                                                                      2875.4\n",
       "inpatient_beds_used_7_day_avg                                                                                                    2565.1\n",
       "all_adult_hospital_inpatient_bed_occupied_7_day_avg                                                                              2305.9\n",
       "total_adult_patients_hospitalized_confirmed_and_suspected_covid_7_day_avg                                                        1297.1\n",
       "total_adult_patients_hospitalized_confirmed_covid_7_day_avg                                                                      1295.9\n",
       "total_pediatric_patients_hospitalized_confirmed_and_suspected_covid_7_day_avg                                                     121.9\n",
       "total_pediatric_patients_hospitalized_confirmed_covid_7_day_avg                                                                    74.1\n",
       "inpatient_beds_7_day_avg                                                                                                         3392.0\n",
       "total_icu_beds_7_day_avg                                                                                                          849.9\n",
       "total_staffed_adult_icu_beds_7_day_avg                                                                                            557.7\n",
       "icu_beds_used_7_day_avg                                                                                                           537.4\n",
       "staffed_adult_icu_bed_occupancy_7_day_avg                                                                                        5864.4\n",
       "staffed_icu_adult_patients_confirmed_and_suspected_covid_7_day_avg                                                               1368.0\n",
       "staffed_icu_adult_patients_confirmed_covid_7_day_avg                                                                              684.0\n",
       "total_patients_hospitalized_confirmed_influenza_7_day_avg                                                                          69.4\n",
       "icu_patients_confirmed_influenza_7_day_avg                                                                                         14.0\n",
       "total_patients_hospitalized_confirmed_influenza_and_covid_7_day_avg                                                                98.9\n",
       "total_beds_7_day_sum                                                                                                            35108.0\n",
       "all_adult_hospital_beds_7_day_sum                                                                                               33460.0\n",
       "all_adult_hospital_inpatient_beds_7_day_sum                                                                                     20128.0\n",
       "inpatient_beds_used_7_day_sum                                                                                                   17956.0\n",
       "all_adult_hospital_inpatient_bed_occupied_7_day_sum                                                                             16141.0\n",
       "total_adult_patients_hospitalized_confirmed_and_suspected_covid_7_day_sum                                                        9080.0\n",
       "total_adult_patients_hospitalized_confirmed_covid_7_day_sum                                                                      9071.0\n",
       "total_pediatric_patients_hospitalized_confirmed_and_suspected_covid_7_day_sum                                                     853.0\n",
       "total_pediatric_patients_hospitalized_confirmed_covid_7_day_sum                                                                   519.0\n",
       "inpatient_beds_7_day_sum                                                                                                        23744.0\n",
       "total_icu_beds_7_day_sum                                                                                                         5949.0\n",
       "total_staffed_adult_icu_beds_7_day_sum                                                                                           3904.0\n",
       "icu_beds_used_7_day_sum                                                                                                          3762.0\n",
       "staffed_adult_icu_bed_occupancy_7_day_sum                                                                                       41051.0\n",
       "staffed_icu_adult_patients_confirmed_and_suspected_covid_7_day_sum                                                               9576.0\n",
       "staffed_icu_adult_patients_confirmed_covid_7_day_sum                                                                             4788.0\n",
       "total_patients_hospitalized_confirmed_influenza_7_day_sum                                                                         486.0\n",
       "icu_patients_confirmed_influenza_7_day_sum                                                                                         72.0\n",
       "total_patients_hospitalized_confirmed_influenza_and_covid_7_day_sum                                                               692.0\n",
       "total_beds_7_day_coverage                                                                                                             7\n",
       "all_adult_hospital_beds_7_day_coverage                                                                                                7\n",
       "all_adult_hospital_inpatient_beds_7_day_coverage                                                                                      7\n",
       "inpatient_beds_used_7_day_coverage                                                                                                    7\n",
       "all_adult_hospital_inpatient_bed_occupied_7_day_coverage                                                                              7\n",
       "total_adult_patients_hospitalized_confirmed_and_suspected_covid_7_day_coverage                                                        7\n",
       "total_adult_patients_hospitalized_confirmed_covid_7_day_coverage                                                                      7\n",
       "total_pediatric_patients_hospitalized_confirmed_and_suspected_covid_7_day_coverage                                                    7\n",
       "total_pediatric_patients_hospitalized_confirmed_covid_7_day_coverage                                                                  7\n",
       "inpatient_beds_7_day_coverage                                                                                                         7\n",
       "total_icu_beds_7_day_coverage                                                                                                         7\n",
       "total_staffed_adult_icu_beds_7_day_coverage                                                                                           7\n",
       "icu_beds_used_7_day_coverage                                                                                                          7\n",
       "staffed_adult_icu_bed_occupancy_7_day_coverage                                                                                        7\n",
       "staffed_icu_adult_patients_confirmed_and_suspected_covid_7_day_coverage                                                               7\n",
       "staffed_icu_adult_patients_confirmed_covid_7_day_coverage                                                                             7\n",
       "total_patients_hospitalized_confirmed_influenza_7_day_coverage                                                                        7\n",
       "icu_patients_confirmed_influenza_7_day_coverage                                                                                       7\n",
       "total_patients_hospitalized_confirmed_influenza_and_covid_7_day_coverage                                                              7\n",
       "previous_day_admission_adult_covid_confirmed_7_day_sum                                                                           1075.0\n",
       "previous_day_admission_adult_covid_confirmed_18-19_7_day_sum                                                                     2730.0\n",
       "previous_day_admission_adult_covid_confirmed_20-29_7_day_sum                                                                       80.0\n",
       "previous_day_admission_adult_covid_confirmed_30-39_7_day_sum                                                                      117.0\n",
       "previous_day_admission_adult_covid_confirmed_40-49_7_day_sum                                                                      147.0\n",
       "previous_day_admission_adult_covid_confirmed_50-59_7_day_sum                                                                      209.0\n",
       "previous_day_admission_adult_covid_confirmed_60-69_7_day_sum                                                                      184.0\n",
       "previous_day_admission_adult_covid_confirmed_70-79_7_day_sum                                                                      322.0\n",
       "previous_day_admission_adult_covid_confirmed_80+_7_day_sum                                                                        252.0\n",
       "previous_day_admission_adult_covid_confirmed_unknown_7_day_sum                                                                    732.0\n",
       "previous_day_admission_pediatric_covid_confirmed_7_day_sum                                                                        116.0\n",
       "previous_day_covid_ED_visits_7_day_sum                                                                                           7473.0\n",
       "previous_day_admission_adult_covid_suspected_7_day_sum                                                                           4005.0\n",
       "previous_day_admission_adult_covid_suspected_18-19_7_day_sum                                                                      175.0\n",
       "previous_day_admission_adult_covid_suspected_20-29_7_day_sum                                                                      431.0\n",
       "previous_day_admission_adult_covid_suspected_30-39_7_day_sum                                                                      376.0\n",
       "previous_day_admission_adult_covid_suspected_40-49_7_day_sum                                                                      532.0\n",
       "previous_day_admission_adult_covid_suspected_50-59_7_day_sum                                                                      621.0\n",
       "previous_day_admission_adult_covid_suspected_60-69_7_day_sum                                                                      579.0\n",
       "previous_day_admission_adult_covid_suspected_70-79_7_day_sum                                                                      471.0\n",
       "previous_day_admission_adult_covid_suspected_80+_7_day_sum                                                                        820.0\n",
       "previous_day_admission_adult_covid_suspected_unknown_7_day_sum                                                                   2066.0\n",
       "previous_day_admission_pediatric_covid_suspected_7_day_sum                                                                        568.0\n",
       "previous_day_total_ED_visits_7_day_sum                                                                                          66707.0\n",
       "previous_day_admission_influenza_confirmed_7_day_sum                                                                              124.0\n",
       "previous_day_admission_adult_covid_confirmed_7_day_coverage                                                                           7\n",
       "previous_day_admission_pediatric_covid_confirmed_7_day_coverage                                                                       7\n",
       "previous_day_admission_adult_covid_suspected_7_day_coverage                                                                           7\n",
       "previous_day_admission_pediatric_covid_suspected_7_day_coverage                                                                       7\n",
       "previous_week_personnel_covid_vaccinated_doses_administered_7_day                                                              539270.0\n",
       "total_personnel_covid_vaccinated_doses_none_7_day                                                                              520037.0\n",
       "total_personnel_covid_vaccinated_doses_one_7_day                                                                               520037.0\n",
       "total_personnel_covid_vaccinated_doses_all_7_day                                                                               520037.0\n",
       "previous_week_patients_covid_vaccinated_doses_one_7_day                                                                        520037.0\n",
       "previous_week_patients_covid_vaccinated_doses_all_7_day                                                                        520037.0\n",
       "is_corrected                                                                                                                       True\n",
       "dtype: object"
      ]
     },
     "execution_count": 5,
     "metadata": {},
     "output_type": "execute_result"
    }
   ],
   "source": [
    "df_covid_hospital.max()"
   ]
  },
  {
   "cell_type": "code",
   "execution_count": null,
   "metadata": {},
   "outputs": [],
   "source": [
    "df_covid_hospital.tail(10)"
   ]
  },
  {
   "cell_type": "code",
   "execution_count": null,
   "metadata": {},
   "outputs": [],
   "source": [
    "df_covid_hospital.shape"
   ]
  },
  {
   "cell_type": "code",
   "execution_count": null,
   "metadata": {},
   "outputs": [],
   "source": [
    "df_covid_hospital.sort_values(by ='collection_week', ascending = False).head()"
   ]
  },
  {
   "cell_type": "code",
   "execution_count": null,
   "metadata": {},
   "outputs": [],
   "source": [
    "type(df_covid_hospital.collection_week)"
   ]
  },
  {
   "cell_type": "code",
   "execution_count": null,
   "metadata": {
    "scrolled": false
   },
   "outputs": [],
   "source": [
    "for x in df_covid_hospital.columns:\n",
    "    print(x)"
   ]
  },
  {
   "cell_type": "code",
   "execution_count": null,
   "metadata": {},
   "outputs": [],
   "source": [
    "df_covid_hospital.dtypes.value_counts()"
   ]
  },
  {
   "cell_type": "code",
   "execution_count": null,
   "metadata": {},
   "outputs": [],
   "source": [
    "df_covid_hospital.index"
   ]
  },
  {
   "cell_type": "code",
   "execution_count": null,
   "metadata": {},
   "outputs": [],
   "source": [
    "df_covid_hospital.ndim"
   ]
  },
  {
   "cell_type": "code",
   "execution_count": null,
   "metadata": {},
   "outputs": [],
   "source": [
    "df_covid_hospital.size"
   ]
  },
  {
   "cell_type": "code",
   "execution_count": null,
   "metadata": {},
   "outputs": [],
   "source": [
    "df_covid_hospital.count()"
   ]
  },
  {
   "cell_type": "code",
   "execution_count": null,
   "metadata": {
    "scrolled": false
   },
   "outputs": [],
   "source": [
    "df_covid_hospital.nunique()"
   ]
  },
  {
   "cell_type": "code",
   "execution_count": null,
   "metadata": {},
   "outputs": [],
   "source": [
    "df_covid_hospital.max()"
   ]
  },
  {
   "cell_type": "code",
   "execution_count": null,
   "metadata": {},
   "outputs": [],
   "source": [
    "df_covid_hospital[df_covid_hospital.city == 'SAN ANTONIO'].max()"
   ]
  },
  {
   "cell_type": "code",
   "execution_count": null,
   "metadata": {},
   "outputs": [],
   "source": [
    "df_covid_hospital[(df_covid_hospital.city == 'SAN ANTONIO') & (df_covid_hospital.collection_week == '2021-12-24')][['hospital_name','previous_day_admission_adult_covid_confirmed_7_day_sum']]"
   ]
  },
  {
   "cell_type": "code",
   "execution_count": null,
   "metadata": {},
   "outputs": [],
   "source": [
    "df_covid_hospital.collection_week.unique()"
   ]
  },
  {
   "cell_type": "code",
   "execution_count": null,
   "metadata": {},
   "outputs": [],
   "source": [
    "df_covid_hospital[(df_covid_hospital.city == 'SAN ANTONIO') & (df_covid_hospital.collection_week == '2021-12-17')][['hospital_name','previous_day_admission_adult_covid_confirmed_7_day_sum']]"
   ]
  },
  {
   "cell_type": "code",
   "execution_count": null,
   "metadata": {},
   "outputs": [],
   "source": [
    "df_covid_hospital[(df_covid_hospital.city == 'SAN ANTONIO') & (df_covid_hospital.collection_week == '2021-12-10')][['previous_day_admission_adult_covid_confirmed_7_day_sum']]"
   ]
  },
  {
   "cell_type": "code",
   "execution_count": null,
   "metadata": {},
   "outputs": [],
   "source": []
  }
 ],
 "metadata": {
  "kernelspec": {
   "display_name": "Python 3",
   "language": "python",
   "name": "python3"
  },
  "language_info": {
   "codemirror_mode": {
    "name": "ipython",
    "version": 3
   },
   "file_extension": ".py",
   "mimetype": "text/x-python",
   "name": "python",
   "nbconvert_exporter": "python",
   "pygments_lexer": "ipython3",
   "version": "3.8.10"
  }
 },
 "nbformat": 4,
 "nbformat_minor": 4
}
